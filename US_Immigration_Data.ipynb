{
 "cells": [
  {
   "cell_type": "markdown",
   "metadata": {},
   "source": [
    "# ETL Pipeline using Spark to Model US Immigration Data\n",
    "\n",
    "#### Project Summary\n",
    "The aim of this project is to create an ETL pipeline by reading in 3 sources sources of data  (the US I94 immigration data, U.S. city demographics data and temperature data) to create a STAR schema data model (dimension and fact tables) to allow for easier analysis of the immigration data. This data model will allow for various analyses to be carried out and will help to spot trends in the US immigration data, such as the most popular cities for immigration,the gender distribution of immigrants, the average age of immigrants etc.\n",
    "\n",
    "The project follows the follow steps:\n",
    "* Step 1: Scope the Project and Gather Data\n",
    "* Step 2: Explore and Assess the Data\n",
    "* Step 3: Define the Data Model\n",
    "* Step 4: Run ETL to Model the Data\n",
    "* Step 5: Complete Project Write Up"
   ]
  },
  {
   "cell_type": "code",
   "execution_count": 1,
   "metadata": {},
   "outputs": [],
   "source": [
    "# Do all imports and installs here\n",
    "import pandas as pd\n",
    "from datetime import datetime, timedelta\n",
    "from pyspark.sql import SparkSession\n",
    "from pyspark.sql.functions import udf, year, month, col, round, dayofweek, weekofyear, dayofmonth\n",
    "from pyspark.sql.types import StringType\n",
    "import re"
   ]
  },
  {
   "cell_type": "code",
   "execution_count": 2,
   "metadata": {},
   "outputs": [],
   "source": [
    "# Create Spark session\n",
    "spark = SparkSession.builder.\\\n",
    "config(\"spark.jars.repositories\", \"https://repos.spark-packages.org/\").\\\n",
    "config(\"spark.jars.packages\", \"saurfang:spark-sas7bdat:2.0.0-s_2.11\").\\\n",
    "enableHiveSupport().getOrCreate()"
   ]
  },
  {
   "cell_type": "markdown",
   "metadata": {},
   "source": [
    "### Step 1: Scope the Project and Gather Data\n",
    "\n",
    "#### Scope \n",
    "The aim of this project is to create an ETL pipeline by reading in 3 sources sources of data  (the US I94 immigration data, U.S. city demographics data and temperature data) to create a STAR schema data model (dimension and fact tables) which can then be used for analysis.\n",
    "\n",
    "#### Gatering the Data:\n",
    "1. I94 Immigration Data - This dataset contains immigration data from the US National Tourism and Trade Office. The I-94 is the Arrival/Departure Record, in either paper or electronic format, issued by a Customs and Border Protection (CBP) Officer to foreign visitors entering the United States. For this project we will be working with data from April 2016.\n",
    "2. World Temperature Data - This dataset came from Kaggle, and contains data on the average temperature of cities.\n",
    "3. U.S. City Demographic Data - This data comes from OpenSoft, and contains data on the demographics of US Cities such as gender, race, age etc."
   ]
  },
  {
   "cell_type": "code",
   "execution_count": 3,
   "metadata": {},
   "outputs": [],
   "source": [
    "# Read in immigration data\n",
    "fname = '../../data/18-83510-I94-Data-2016/i94_apr16_sub.sas7bdat'\n",
    "df_immigration = spark.read.format('com.github.saurfang.sas.spark').load(fname)\n"
   ]
  },
  {
   "cell_type": "code",
   "execution_count": 4,
   "metadata": {},
   "outputs": [],
   "source": [
    "# Read in temperature data\n",
    "fname = \"../../data2/GlobalLandTemperaturesByCity.csv\"\n",
    "df_temperature = spark.read.format(\"csv\").option(\"delimiter\", \",\").option(\"header\", \"true\").load(fname)"
   ]
  },
  {
   "cell_type": "code",
   "execution_count": 5,
   "metadata": {},
   "outputs": [],
   "source": [
    "# Read in demographics data\n",
    "fname = \"us-cities-demographics.csv\"\n",
    "df_demo = spark.read.format(\"csv\").option(\"delimiter\", \";\").option(\"header\", \"true\").load(fname)"
   ]
  },
  {
   "cell_type": "code",
   "execution_count": 6,
   "metadata": {},
   "outputs": [],
   "source": [
    "\n",
    "\n",
    "\n",
    "#df_spark = spark.read.format('com.github.saurfang.sas.spark').load('../../data/18-83510-I94-Data-2016/i94_apr16_sub.sas7bdat')\n"
   ]
  },
  {
   "cell_type": "code",
   "execution_count": 7,
   "metadata": {},
   "outputs": [],
   "source": [
    "#write to parquet\n",
    "#df_spark.write.parquet(\"sas_data\")\n",
    "#df_spark=spark.read.parquet(\"sas_data\")"
   ]
  },
  {
   "cell_type": "markdown",
   "metadata": {},
   "source": [
    "### Step 2: Explore, Assess and Clean the Data\n",
    "#### Immigration Data\n"
   ]
  },
  {
   "cell_type": "code",
   "execution_count": 8,
   "metadata": {},
   "outputs": [
    {
     "name": "stdout",
     "output_type": "stream",
     "text": [
      "+-----+------+------+------+------+-------+-------+-------+-------+-------+------+-------+-----+--------+--------+-----+-------+-------+-------+-------+-------+--------+------+------+-------+--------------+-----+--------+\n",
      "|cicid| i94yr|i94mon|i94cit|i94res|i94port|arrdate|i94mode|i94addr|depdate|i94bir|i94visa|count|dtadfile|visapost|occup|entdepa|entdepd|entdepu|matflag|biryear| dtaddto|gender|insnum|airline|        admnum|fltno|visatype|\n",
      "+-----+------+------+------+------+-------+-------+-------+-------+-------+------+-------+-----+--------+--------+-----+-------+-------+-------+-------+-------+--------+------+------+-------+--------------+-----+--------+\n",
      "|  6.0|2016.0|   4.0| 692.0| 692.0|    XXX|20573.0|   null|   null|   null|  37.0|    2.0|  1.0|    null|    null| null|      T|   null|      U|   null| 1979.0|10282016|  null|  null|   null| 1.897628485E9| null|      B2|\n",
      "|  7.0|2016.0|   4.0| 254.0| 276.0|    ATL|20551.0|    1.0|     AL|   null|  25.0|    3.0|  1.0|20130811|     SEO| null|      G|   null|      Y|   null| 1991.0|     D/S|     M|  null|   null|  3.73679633E9|00296|      F1|\n",
      "| 15.0|2016.0|   4.0| 101.0| 101.0|    WAS|20545.0|    1.0|     MI|20691.0|  55.0|    2.0|  1.0|20160401|    null| null|      T|      O|   null|      M| 1961.0|09302016|     M|  null|     OS|  6.66643185E8|   93|      B2|\n",
      "| 16.0|2016.0|   4.0| 101.0| 101.0|    NYC|20545.0|    1.0|     MA|20567.0|  28.0|    2.0|  1.0|20160401|    null| null|      O|      O|   null|      M| 1988.0|09302016|  null|  null|     AA|9.246846133E10|00199|      B2|\n",
      "| 17.0|2016.0|   4.0| 101.0| 101.0|    NYC|20545.0|    1.0|     MA|20567.0|   4.0|    2.0|  1.0|20160401|    null| null|      O|      O|   null|      M| 2012.0|09302016|  null|  null|     AA|9.246846313E10|00199|      B2|\n",
      "| 18.0|2016.0|   4.0| 101.0| 101.0|    NYC|20545.0|    1.0|     MI|20555.0|  57.0|    1.0|  1.0|20160401|    null| null|      O|      O|   null|      M| 1959.0|09302016|  null|  null|     AZ|9.247103803E10|00602|      B1|\n",
      "| 19.0|2016.0|   4.0| 101.0| 101.0|    NYC|20545.0|    1.0|     NJ|20558.0|  63.0|    2.0|  1.0|20160401|    null| null|      O|      K|   null|      M| 1953.0|09302016|  null|  null|     AZ|9.247139923E10|00602|      B2|\n",
      "| 20.0|2016.0|   4.0| 101.0| 101.0|    NYC|20545.0|    1.0|     NJ|20558.0|  57.0|    2.0|  1.0|20160401|    null| null|      O|      K|   null|      M| 1959.0|09302016|  null|  null|     AZ|9.247161383E10|00602|      B2|\n",
      "| 21.0|2016.0|   4.0| 101.0| 101.0|    NYC|20545.0|    1.0|     NY|20553.0|  46.0|    2.0|  1.0|20160401|    null| null|      O|      O|   null|      M| 1970.0|09302016|  null|  null|     AZ|9.247079603E10|00602|      B2|\n",
      "| 22.0|2016.0|   4.0| 101.0| 101.0|    NYC|20545.0|    1.0|     NY|20562.0|  48.0|    1.0|  1.0|20160401|    null| null|      O|      O|   null|      M| 1968.0|09302016|  null|  null|     AZ|9.247848973E10|00608|      B1|\n",
      "+-----+------+------+------+------+-------+-------+-------+-------+-------+------+-------+-----+--------+--------+-----+-------+-------+-------+-------+-------+--------+------+------+-------+--------------+-----+--------+\n",
      "only showing top 10 rows\n",
      "\n"
     ]
    }
   ],
   "source": [
    "df_immigration.show(10)"
   ]
  },
  {
   "cell_type": "code",
   "execution_count": 9,
   "metadata": {},
   "outputs": [
    {
     "data": {
      "text/plain": [
       "3096313"
      ]
     },
     "execution_count": 9,
     "metadata": {},
     "output_type": "execute_result"
    }
   ],
   "source": [
    "df_immigration.count()"
   ]
  },
  {
   "cell_type": "code",
   "execution_count": 10,
   "metadata": {},
   "outputs": [
    {
     "name": "stdout",
     "output_type": "stream",
     "text": [
      "root\n",
      " |-- cicid: double (nullable = true)\n",
      " |-- i94yr: double (nullable = true)\n",
      " |-- i94mon: double (nullable = true)\n",
      " |-- i94cit: double (nullable = true)\n",
      " |-- i94res: double (nullable = true)\n",
      " |-- i94port: string (nullable = true)\n",
      " |-- arrdate: double (nullable = true)\n",
      " |-- i94mode: double (nullable = true)\n",
      " |-- i94addr: string (nullable = true)\n",
      " |-- depdate: double (nullable = true)\n",
      " |-- i94bir: double (nullable = true)\n",
      " |-- i94visa: double (nullable = true)\n",
      " |-- count: double (nullable = true)\n",
      " |-- dtadfile: string (nullable = true)\n",
      " |-- visapost: string (nullable = true)\n",
      " |-- occup: string (nullable = true)\n",
      " |-- entdepa: string (nullable = true)\n",
      " |-- entdepd: string (nullable = true)\n",
      " |-- entdepu: string (nullable = true)\n",
      " |-- matflag: string (nullable = true)\n",
      " |-- biryear: double (nullable = true)\n",
      " |-- dtaddto: string (nullable = true)\n",
      " |-- gender: string (nullable = true)\n",
      " |-- insnum: string (nullable = true)\n",
      " |-- airline: string (nullable = true)\n",
      " |-- admnum: double (nullable = true)\n",
      " |-- fltno: string (nullable = true)\n",
      " |-- visatype: string (nullable = true)\n",
      "\n"
     ]
    }
   ],
   "source": [
    "df_immigration.printSchema()"
   ]
  },
  {
   "cell_type": "code",
   "execution_count": 11,
   "metadata": {},
   "outputs": [],
   "source": [
    "df_immigration.createOrReplaceTempView(\"tblImmigration\")"
   ]
  },
  {
   "cell_type": "code",
   "execution_count": 12,
   "metadata": {},
   "outputs": [
    {
     "name": "stdout",
     "output_type": "stream",
     "text": [
      "+---------------------+\n",
      "|count(DISTINCT cicid)|\n",
      "+---------------------+\n",
      "|              3096313|\n",
      "+---------------------+\n",
      "\n"
     ]
    }
   ],
   "source": [
    "# check cicd can be used as primary key\n",
    "spark.sql(\"\"\"\n",
    "SELECT COUNT (DISTINCT cicid)\n",
    "FROM tblImmigration\n",
    "\"\"\").show()"
   ]
  },
  {
   "cell_type": "code",
   "execution_count": 13,
   "metadata": {},
   "outputs": [],
   "source": [
    "# Remove any duplicates\n",
    "df_immigration_clean = df_immigration.drop_duplicates()"
   ]
  },
  {
   "cell_type": "code",
   "execution_count": 14,
   "metadata": {},
   "outputs": [],
   "source": [
    "# All dates in SAS correspond to the number of days since 1960-01-01. \n",
    "# Create udf to convert SAS date value to date \n",
    "@udf(StringType())\n",
    "def convert_to_date(x):\n",
    "    if x:\n",
    "        return ((datetime(1960, 1, 1).date() + timedelta(x))).isoformat()\n",
    "    return None"
   ]
  },
  {
   "cell_type": "code",
   "execution_count": 15,
   "metadata": {},
   "outputs": [],
   "source": [
    "# convert SAS date to date \n",
    "df_immigration_clean = df_immigration_clean.withColumn(\"arrdate\", convert_to_date(df_immigration_clean.arrdate))\n",
    "df_immigration_clean = df_immigration_clean.withColumn(\"depdate\", convert_to_date(df_immigration_clean.depdate))"
   ]
  },
  {
   "cell_type": "markdown",
   "metadata": {},
   "source": [
    "#### Temperature Data\n"
   ]
  },
  {
   "cell_type": "code",
   "execution_count": 16,
   "metadata": {},
   "outputs": [
    {
     "name": "stdout",
     "output_type": "stream",
     "text": [
      "+----------+------------------+-----------------------------+-----+-------+--------+---------+\n",
      "|        dt|AverageTemperature|AverageTemperatureUncertainty| City|Country|Latitude|Longitude|\n",
      "+----------+------------------+-----------------------------+-----+-------+--------+---------+\n",
      "|1743-11-01|             6.068|           1.7369999999999999|Århus|Denmark|  57.05N|   10.33E|\n",
      "|1743-12-01|              null|                         null|Århus|Denmark|  57.05N|   10.33E|\n",
      "|1744-01-01|              null|                         null|Århus|Denmark|  57.05N|   10.33E|\n",
      "|1744-02-01|              null|                         null|Århus|Denmark|  57.05N|   10.33E|\n",
      "|1744-03-01|              null|                         null|Århus|Denmark|  57.05N|   10.33E|\n",
      "+----------+------------------+-----------------------------+-----+-------+--------+---------+\n",
      "only showing top 5 rows\n",
      "\n"
     ]
    }
   ],
   "source": [
    "df_temperature.show(5)"
   ]
  },
  {
   "cell_type": "code",
   "execution_count": 17,
   "metadata": {},
   "outputs": [
    {
     "name": "stdout",
     "output_type": "stream",
     "text": [
      "+-----------------------+\n",
      "|count(DISTINCT Country)|\n",
      "+-----------------------+\n",
      "|                    159|\n",
      "+-----------------------+\n",
      "\n"
     ]
    }
   ],
   "source": [
    "df_temperature.createOrReplaceTempView(\"tblTemperature\")\n",
    "\n",
    "# check number of countries present in temperature dataset\n",
    "spark.sql(\"\"\"\n",
    "SELECT COUNT (DISTINCT Country)\n",
    "FROM tblTemperature\n",
    "\"\"\").show()"
   ]
  },
  {
   "cell_type": "code",
   "execution_count": 18,
   "metadata": {},
   "outputs": [],
   "source": [
    "# keep only U.S. data\n",
    "df_temperature_clean = df_temperature.where(df_temperature.Country == 'United States')"
   ]
  },
  {
   "cell_type": "code",
   "execution_count": 19,
   "metadata": {},
   "outputs": [
    {
     "name": "stdout",
     "output_type": "stream",
     "text": [
      "+----------+------------------+-----------------------------+-------+-------------+--------+---------+\n",
      "|        dt|AverageTemperature|AverageTemperatureUncertainty|   City|      Country|Latitude|Longitude|\n",
      "+----------+------------------+-----------------------------+-------+-------------+--------+---------+\n",
      "|1820-01-01|2.1010000000000004|                        3.217|Abilene|United States|  32.95N|  100.53W|\n",
      "|1820-02-01|             6.926|                        2.853|Abilene|United States|  32.95N|  100.53W|\n",
      "|1820-03-01|            10.767|                        2.395|Abilene|United States|  32.95N|  100.53W|\n",
      "|1820-04-01|17.988999999999994|                        2.202|Abilene|United States|  32.95N|  100.53W|\n",
      "|1820-05-01|            21.809|                        2.036|Abilene|United States|  32.95N|  100.53W|\n",
      "+----------+------------------+-----------------------------+-------+-------------+--------+---------+\n",
      "only showing top 5 rows\n",
      "\n"
     ]
    }
   ],
   "source": [
    "df_temperature_clean.show(5)"
   ]
  },
  {
   "cell_type": "code",
   "execution_count": 20,
   "metadata": {},
   "outputs": [
    {
     "name": "stdout",
     "output_type": "stream",
     "text": [
      "root\n",
      " |-- dt: string (nullable = true)\n",
      " |-- AverageTemperature: string (nullable = true)\n",
      " |-- AverageTemperatureUncertainty: string (nullable = true)\n",
      " |-- City: string (nullable = true)\n",
      " |-- Country: string (nullable = true)\n",
      " |-- Latitude: string (nullable = true)\n",
      " |-- Longitude: string (nullable = true)\n",
      "\n"
     ]
    }
   ],
   "source": [
    "df_temperature_clean.printSchema()"
   ]
  },
  {
   "cell_type": "code",
   "execution_count": 21,
   "metadata": {},
   "outputs": [],
   "source": [
    "# drop any columns with missing average temperature value\n",
    "df_temperature_clean = df_temperature_clean.dropna(how=\"any\", subset=[\"AverageTemperature\"])"
   ]
  },
  {
   "cell_type": "code",
   "execution_count": 22,
   "metadata": {},
   "outputs": [],
   "source": [
    "# Create dictionary of city codes: city name\n",
    "i94_sas_label_descriptions_fname = \"I94_SAS_Labels_Descriptions.SAS\"\n",
    "with open(i94_sas_label_descriptions_fname) as f:\n",
    "    lines = f.readlines()\n",
    "\n",
    "pattern_object = re.compile(r\"\\'(.*)\\'.*\\'(.*)\\'\")\n",
    "city_dict = {}\n",
    "for line in lines[302:961]:\n",
    "    city_code_map = pattern_object.search(line)\n",
    "    city_dict[city_code_map.group(1)] = city_code_map.group(2).rstrip()"
   ]
  },
  {
   "cell_type": "code",
   "execution_count": 23,
   "metadata": {},
   "outputs": [],
   "source": [
    "# function to determine city code from city name\n",
    "@udf(StringType())\n",
    "def city_to_city_code(city):\n",
    "    for key in city_dict:\n",
    "        if city.lower() in city_dict[key].lower():\n",
    "            return key"
   ]
  },
  {
   "cell_type": "code",
   "execution_count": 24,
   "metadata": {},
   "outputs": [],
   "source": [
    "# map city codes and drop any blanks\n",
    "df_temperature_clean = df_temperature_clean.withColumn(\"city_code\", city_to_city_code(df_temperature_clean[\"City\"]))\n",
    "df_temperature_clean = df_temperature_clean.dropna(how='any', subset=[\"city_code\"])\n",
    "\n",
    "# correct data types\n",
    "df_temperature_clean = df_temperature_clean.withColumn(\"AverageTemperature\", col(\"AverageTemperature\").cast(\"float\")) \n",
    "df_temperature_clean = df_temperature_clean.withColumn(\"AverageTemperatureUncertainty\", col(\"AverageTemperatureUncertainty\").cast(\"float\")) \n",
    "\n",
    "# add year and month columns\n",
    "df_temperature_clean = df_temperature_clean.withColumn(\"year\", year(df_temperature_clean['dt'])) \\\n",
    "                        .withColumn(\"month\", month(df_temperature_clean[\"dt\"]))\n",
    " \n",
    "\n"
   ]
  },
  {
   "cell_type": "code",
   "execution_count": 25,
   "metadata": {},
   "outputs": [
    {
     "name": "stdout",
     "output_type": "stream",
     "text": [
      "+----------+------------------+-----------------------------+-----+-------------+--------+---------+---------+----+-----+\n",
      "|        dt|AverageTemperature|AverageTemperatureUncertainty| City|      Country|Latitude|Longitude|city_code|year|month|\n",
      "+----------+------------------+-----------------------------+-----+-------------+--------+---------+---------+----+-----+\n",
      "|1743-11-01|             3.209|                        1.961|Akron|United States|  40.99N|   80.95W|      AKR|1743|   11|\n",
      "|1744-04-01|            10.352|                        2.222|Akron|United States|  40.99N|   80.95W|      AKR|1744|    4|\n",
      "|1744-05-01|            15.487|                        1.867|Akron|United States|  40.99N|   80.95W|      AKR|1744|    5|\n",
      "|1744-06-01|              20.9|                        1.726|Akron|United States|  40.99N|   80.95W|      AKR|1744|    6|\n",
      "|1744-07-01|            22.111|                        1.529|Akron|United States|  40.99N|   80.95W|      AKR|1744|    7|\n",
      "+----------+------------------+-----------------------------+-----+-------------+--------+---------+---------+----+-----+\n",
      "only showing top 5 rows\n",
      "\n"
     ]
    }
   ],
   "source": [
    "df_temperature_clean.show(5)"
   ]
  },
  {
   "cell_type": "markdown",
   "metadata": {},
   "source": [
    "#### US City Demographics Data"
   ]
  },
  {
   "cell_type": "code",
   "execution_count": 26,
   "metadata": {},
   "outputs": [
    {
     "name": "stdout",
     "output_type": "stream",
     "text": [
      "+----------------+-------------+----------+---------------+-----------------+----------------+------------------+------------+----------------------+----------+--------------------+-----+\n",
      "|            City|        State|Median Age|Male Population|Female Population|Total Population|Number of Veterans|Foreign-born|Average Household Size|State Code|                Race|Count|\n",
      "+----------------+-------------+----------+---------------+-----------------+----------------+------------------+------------+----------------------+----------+--------------------+-----+\n",
      "|   Silver Spring|     Maryland|      33.8|          40601|            41862|           82463|              1562|       30908|                   2.6|        MD|  Hispanic or Latino|25924|\n",
      "|          Quincy|Massachusetts|      41.0|          44129|            49500|           93629|              4147|       32935|                  2.39|        MA|               White|58723|\n",
      "|          Hoover|      Alabama|      38.5|          38040|            46799|           84839|              4819|        8229|                  2.58|        AL|               Asian| 4759|\n",
      "|Rancho Cucamonga|   California|      34.5|          88127|            87105|          175232|              5821|       33878|                  3.18|        CA|Black or African-...|24437|\n",
      "|          Newark|   New Jersey|      34.6|         138040|           143873|          281913|              5829|       86253|                  2.73|        NJ|               White|76402|\n",
      "+----------------+-------------+----------+---------------+-----------------+----------------+------------------+------------+----------------------+----------+--------------------+-----+\n",
      "only showing top 5 rows\n",
      "\n"
     ]
    }
   ],
   "source": [
    "df_demo.show(5)"
   ]
  },
  {
   "cell_type": "code",
   "execution_count": 27,
   "metadata": {},
   "outputs": [
    {
     "name": "stdout",
     "output_type": "stream",
     "text": [
      "+---------------------------------+\n",
      "|Race                             |\n",
      "+---------------------------------+\n",
      "|Black or African-American        |\n",
      "|Hispanic or Latino               |\n",
      "|White                            |\n",
      "|Asian                            |\n",
      "|American Indian and Alaska Native|\n",
      "+---------------------------------+\n",
      "\n"
     ]
    }
   ],
   "source": [
    "df_demo.select('Race').distinct().show(truncate=False)"
   ]
  },
  {
   "cell_type": "code",
   "execution_count": 28,
   "metadata": {},
   "outputs": [
    {
     "data": {
      "text/plain": [
       "2891"
      ]
     },
     "execution_count": 28,
     "metadata": {},
     "output_type": "execute_result"
    }
   ],
   "source": [
    "df_demo.count()"
   ]
  },
  {
   "cell_type": "code",
   "execution_count": 29,
   "metadata": {},
   "outputs": [
    {
     "name": "stdout",
     "output_type": "stream",
     "text": [
      "+-------+----------+----------+---------------+-----------------+----------------+------------------+------------+----------------------+----------+--------------------+------+\n",
      "|   City|     State|Median Age|Male Population|Female Population|Total Population|Number of Veterans|Foreign-born|Average Household Size|State Code|                Race| Count|\n",
      "+-------+----------+----------+---------------+-----------------+----------------+------------------+------------+----------------------+----------+--------------------+------+\n",
      "|Oakland|California|      35.7|         203827|           215451|          419278|             12159|      113896|                  2.56|        CA|Black or African-...|118228|\n",
      "|Oakland|California|      35.7|         203827|           215451|          419278|             12159|      113896|                  2.56|        CA|  Hispanic or Latino|114054|\n",
      "|Oakland|California|      35.7|         203827|           215451|          419278|             12159|      113896|                  2.56|        CA|American Indian a...|  8380|\n",
      "|Oakland|California|      35.7|         203827|           215451|          419278|             12159|      113896|                  2.56|        CA|               White|171599|\n",
      "|Oakland|California|      35.7|         203827|           215451|          419278|             12159|      113896|                  2.56|        CA|               Asian| 75446|\n",
      "+-------+----------+----------+---------------+-----------------+----------------+------------------+------------+----------------------+----------+--------------------+------+\n",
      "\n"
     ]
    }
   ],
   "source": [
    "df_demo.where(df_demo['City']=='Oakland').show()\n",
    "# based on this output the race count can be split out into seperate columns"
   ]
  },
  {
   "cell_type": "code",
   "execution_count": 30,
   "metadata": {},
   "outputs": [
    {
     "name": "stdout",
     "output_type": "stream",
     "text": [
      "root\n",
      " |-- City: string (nullable = true)\n",
      " |-- State: string (nullable = true)\n",
      " |-- Median Age: string (nullable = true)\n",
      " |-- Male Population: string (nullable = true)\n",
      " |-- Female Population: string (nullable = true)\n",
      " |-- Total Population: string (nullable = true)\n",
      " |-- Number of Veterans: string (nullable = true)\n",
      " |-- Foreign-born: string (nullable = true)\n",
      " |-- Average Household Size: string (nullable = true)\n",
      " |-- State Code: string (nullable = true)\n",
      " |-- Race: string (nullable = true)\n",
      " |-- Count: string (nullable = true)\n",
      "\n"
     ]
    }
   ],
   "source": [
    "df_demo.printSchema()"
   ]
  },
  {
   "cell_type": "code",
   "execution_count": 31,
   "metadata": {},
   "outputs": [],
   "source": [
    "# map city codes and drop any blanks\n",
    "df_demo_clean = df_demo.withColumn(\"city_code\", city_to_city_code(df_demo[\"City\"]))\n",
    "df_demo_clean = df_demo_clean.dropna(how='any', subset=[\"city_code\"])"
   ]
  },
  {
   "cell_type": "code",
   "execution_count": 32,
   "metadata": {},
   "outputs": [],
   "source": [
    "# correct data types - convert strings to long or float values\n",
    "df_demo_clean = df_demo_clean.withColumn(\"Count\", col(\"Count\").cast(\"long\")) \n",
    "df_demo_clean = df_demo_clean.withColumn(\"Median Age\", col(\"Median Age\").cast(\"float\")) \n",
    "df_demo_clean = df_demo_clean.withColumn(\"Male Population\", col(\"Male Population\").cast(\"long\")) \n",
    "df_demo_clean = df_demo_clean.withColumn(\"Female Population\", col(\"Female Population\").cast(\"long\")) \n",
    "df_demo_clean = df_demo_clean.withColumn(\"Number of Veterans\", col(\"Number of Veterans\").cast(\"long\")) \n",
    "df_demo_clean = df_demo_clean.withColumn(\"Total Population\", col(\"Total Population\").cast(\"long\")) \n",
    "df_demo_clean = df_demo_clean.withColumn(\"Foreign-born\", col(\"Foreign-born\").cast(\"long\")) \n",
    "df_demo_clean = df_demo_clean.withColumn(\"Average Household Size\", col(\"Average Household Size\").cast(\"float\")) "
   ]
  },
  {
   "cell_type": "code",
   "execution_count": 33,
   "metadata": {},
   "outputs": [],
   "source": [
    "df_demo_clean = df_demo_clean.groupBy(['City','city_code','State', 'State Code','Median Age','Male Population','Female Population','Total Population','Number of Veterans','Foreign-born','Average Household Size']).pivot('Race').sum('Count')"
   ]
  },
  {
   "cell_type": "code",
   "execution_count": 34,
   "metadata": {},
   "outputs": [
    {
     "name": "stdout",
     "output_type": "stream",
     "text": [
      "root\n",
      " |-- City: string (nullable = true)\n",
      " |-- city_code: string (nullable = true)\n",
      " |-- State: string (nullable = true)\n",
      " |-- State Code: string (nullable = true)\n",
      " |-- Median Age: float (nullable = true)\n",
      " |-- Male Population: long (nullable = true)\n",
      " |-- Female Population: long (nullable = true)\n",
      " |-- Total Population: long (nullable = true)\n",
      " |-- Number of Veterans: long (nullable = true)\n",
      " |-- Foreign-born: long (nullable = true)\n",
      " |-- Average Household Size: float (nullable = true)\n",
      " |-- American Indian and Alaska Native: long (nullable = true)\n",
      " |-- Asian: long (nullable = true)\n",
      " |-- Black or African-American: long (nullable = true)\n",
      " |-- Hispanic or Latino: long (nullable = true)\n",
      " |-- White: long (nullable = true)\n",
      "\n"
     ]
    }
   ],
   "source": [
    "# check string values have been converted properly\n",
    "df_demo_clean.printSchema()"
   ]
  },
  {
   "cell_type": "code",
   "execution_count": 35,
   "metadata": {},
   "outputs": [
    {
     "name": "stdout",
     "output_type": "stream",
     "text": [
      "+-------+---------+----------+----------+----------+---------------+-----------------+----------------+------------------+------------+----------------------+---------------------------------+-----+-------------------------+------------------+------+\n",
      "|   City|city_code|     State|State Code|Median Age|Male Population|Female Population|Total Population|Number of Veterans|Foreign-born|Average Household Size|American Indian and Alaska Native|Asian|Black or African-American|Hispanic or Latino| White|\n",
      "+-------+---------+----------+----------+----------+---------------+-----------------+----------------+------------------+------------+----------------------+---------------------------------+-----+-------------------------+------------------+------+\n",
      "|Oakland|      OAK|California|        CA|      35.7|         203827|           215451|          419278|             12159|      113896|                  2.56|                             8380|75446|                   118228|            114054|171599|\n",
      "+-------+---------+----------+----------+----------+---------------+-----------------+----------------+------------------+------------+----------------------+---------------------------------+-----+-------------------------+------------------+------+\n",
      "\n"
     ]
    }
   ],
   "source": [
    "# check race has been correcly split out into columns\n",
    "df_demo_clean.where(df_demo_clean['City']=='Oakland').show()"
   ]
  },
  {
   "cell_type": "markdown",
   "metadata": {},
   "source": [
    "### Step 3: Define the Data Model\n",
    "#### 3.1 Conceptual Data Model\n"
   ]
  },
  {
   "cell_type": "code",
   "execution_count": 67,
   "metadata": {},
   "outputs": [
    {
     "data": {
      "image/png": "[encoded data removed]",
      "text/plain": [
       "<IPython.core.display.Image object>"
      ]
     },
     "execution_count": 67,
     "metadata": {},
     "output_type": "execute_result"
    }
   ],
   "source": [
    "from IPython.display import Image\n",
    "Image(filename='ERD.png') "
   ]
  },
  {
   "cell_type": "markdown",
   "metadata": {},
   "source": [
    "#### Staging Tables\n",
    "df_staging_immigration\n",
    "   - id\n",
    "   - date\n",
    "   - city_code\n",
    "   - state_code\n",
    "   - age\n",
    "   - gender\n",
    "   - visa_type\n",
    "   - count\n",
    "    \n",
    "df_staging_temperature\n",
    "   - year\n",
    "   - month\n",
    "   - city_code\n",
    "   - city_name\n",
    "   - avg_temperature\n",
    "   - avg_temperature_uncertainty\n",
    "   - lat\n",
    "   - long\n",
    "    \n",
    "df_staging_demographics\n",
    "   - city_code\n",
    "   - state_code\n",
    "   - city_name\n",
    "   - median_age\n",
    "   - male_pop\n",
    "   - female_pop\n",
    "   - total_pop\n",
    "   - veterans_count\n",
    "   - foreign_born_count\n",
    "   - avg_household_size\n",
    "   - american_indian_alaska_native_count\n",
    "   - asian_count\n",
    "   - black_or_african_american_count\n",
    "   - hispanic_or_latino_count\n",
    "   - white_count\n"
   ]
  },
  {
   "cell_type": "markdown",
   "metadata": {},
   "source": [
    "#### Dimension Tables\n",
    "df_immigrant\n",
    "   - id\n",
    "   - age\n",
    "   - gender\n",
    "   - visa_type\n",
    "    \n",
    "df_city\n",
    "   - city_code\n",
    "   - state_code\n",
    "   - city_name\n",
    "   - state_name\n",
    "   - median_age\n",
    "   - male_pop\n",
    "   - female_pop\n",
    "   - total_pop\n",
    "   - veterans_count\n",
    "   - foreign_born_count\n",
    "   - avg_household_size\n",
    "   - american_indian_alaska_native_count\n",
    "   - asian_count\n",
    "   - black_or_african_american_count\n",
    "   - hispanic_or_latino_count\n",
    "   - white_count\n",
    "   - lat\n",
    "   - long\n",
    "    \n",
    "    \n",
    "df_city_temp\n",
    "   - city_code\n",
    "   - year\n",
    "   - month\n",
    "   - avg_temperature\n",
    "   - avg_temperature_uncertainty\n",
    "    \n",
    "df_time\n",
    "  - date\n",
    "  - dayofweek\n",
    "  - weekofyear\n",
    "  - month"
   ]
  },
  {
   "cell_type": "markdown",
   "metadata": {},
   "source": [
    "#### Fact Table\n",
    "df_immigration\n",
    "   - id\n",
    "   - state_code\n",
    "   - city_code\n",
    "   - date\n",
    "   - count"
   ]
  },
  {
   "cell_type": "markdown",
   "metadata": {},
   "source": [
    "#### 3.2 Mapping Out Data Pipelines\n",
    "##### Steps necessary to pipeline the data into the data model\n",
    "1. Clean data sources\n",
    "2. Load staging tables\n",
    "3. Create dimension and fact tables\n",
    "4. Save dimension and fact tables into parquet files which can then be used for analsyis"
   ]
  },
  {
   "cell_type": "markdown",
   "metadata": {},
   "source": [
    "### Step 4: Run Pipelines to Model the Data \n",
    "#### 4.1 Create the data model\n",
    "Build the data pipelines to create the data model."
   ]
  },
  {
   "cell_type": "markdown",
   "metadata": {},
   "source": [
    "##### Load Staging Tables"
   ]
  },
  {
   "cell_type": "code",
   "execution_count": 36,
   "metadata": {},
   "outputs": [],
   "source": [
    "df_staging_immigration = df_immigration_clean.select(\n",
    "                            col(\"cicid\").alias(\"id\"),\n",
    "                            col(\"arrdate\").alias(\"date\"),\n",
    "                            col(\"i94port\").alias(\"city_code\"),\n",
    "                            col(\"i94addr\").alias(\"state_code\"),\n",
    "                            col(\"i94bir\").alias(\"age\"),\n",
    "                            col(\"gender\"),\n",
    "                            col(\"i94visa\").alias(\"visa_type\"),\n",
    "                            col(\"count\")\n",
    "                            ).drop_duplicates()"
   ]
  },
  {
   "cell_type": "code",
   "execution_count": 37,
   "metadata": {},
   "outputs": [],
   "source": [
    "df_staging_temperature = df_temperature_clean.select(\n",
    "                                        col('dt').alias(\"date\"),\n",
    "                                        col(\"year\"), \n",
    "                                        col(\"month\"), \n",
    "                                        col(\"city_code\"),\n",
    "                                        col(\"City\").alias(\"city_name\"),\n",
    "                                        round(col(\"AverageTemperature\"), 2).alias(\"avg_temperature\"),\n",
    "                                        round(col(\"AverageTemperatureUncertainty\"), 2).alias(\"avg_temperature_uncertainty\"),\n",
    "                                        col(\"Latitude\").alias(\"lat\"), \n",
    "                                        col(\"Longitude\").alias(\"long\")\n",
    "                                        ).drop_duplicates()"
   ]
  },
  {
   "cell_type": "code",
   "execution_count": 38,
   "metadata": {},
   "outputs": [],
   "source": [
    "df_staging_demographics = df_demo_clean.select(\n",
    "                                        col(\"City\").alias(\"city_name\"),\n",
    "                                        col(\"city_code\"),\n",
    "                                        col(\"state\").alias(\"state_name\"),\n",
    "                                        col(\"State Code\").alias(\"state_code\"),\n",
    "                                        round(col(\"Median Age\"), 2).alias(\"median_age\"),\n",
    "                                        col(\"Male Population\").alias(\"male_pop\"), \n",
    "                                        col(\"Female Population\").alias(\"female_pop\"),\n",
    "                                        col(\"Total Population\").alias(\"total_pop\"),\n",
    "                                        col(\"Number of Veterans\").alias(\"veterans_count\"),\n",
    "                                        col(\"Foreign-born\").alias(\"foreign_born_count\"),\n",
    "                                        round(col(\"Average Household Size\"),2).alias(\"avg_household_size\"),\n",
    "                                        col(\"American Indian and Alaska Native\").alias(\"american_indian_alaska_native_count\"),\n",
    "                                        col(\"Asian\").alias(\"asian_count\"),\n",
    "                                        col(\"Black or African-American\").alias(\"black_or_african_american_count\"),\n",
    "                                        col(\"Hispanic or Latino\").alias(\"hispanic_or_latino_count\"),\n",
    "                                        col(\"White\").alias(\"white_count\"),\n",
    "                                        ).drop_duplicates()"
   ]
  },
  {
   "cell_type": "markdown",
   "metadata": {},
   "source": [
    "##### Create dimension and Fact Tables"
   ]
  },
  {
   "cell_type": "code",
   "execution_count": 39,
   "metadata": {},
   "outputs": [],
   "source": [
    "df_immigrant = df_staging_immigration.select(\"id\", \"age\", \"gender\", \"visa_type\")"
   ]
  },
  {
   "cell_type": "code",
   "execution_count": 40,
   "metadata": {},
   "outputs": [],
   "source": [
    "df_city = df_staging_demographics.join(df_staging_temperature, \"city_code\").select(\n",
    "                                    \"city_code\", \"state_code\", df_staging_demographics[\"city_name\"],\n",
    "                                    \"state_name\",\n",
    "                                    \"median_age\",\"male_pop\",\n",
    "                                    \"female_pop\",\"total_pop\",\n",
    "                                    \"veterans_count\",\"foreign_born_count\"\n",
    "                                    ,\"avg_household_size\",\"american_indian_alaska_native_count\",\n",
    "                                    \"asian_count\", \"black_or_african_american_count\",\n",
    "                                    \"hispanic_or_latino_count\",\n",
    "                                    \"white_count\",\"lat\",\"long\").drop_duplicates()"
   ]
  },
  {
   "cell_type": "code",
   "execution_count": 41,
   "metadata": {},
   "outputs": [],
   "source": [
    "df_city_temp = df_staging_temperature.select(\"date\",\"city_code\", \"year\", \"month\",\n",
    "                                             \"avg_temperature\",\"avg_temperature_uncertainty\").drop_duplicates()"
   ]
  },
  {
   "cell_type": "code",
   "execution_count": 42,
   "metadata": {},
   "outputs": [],
   "source": [
    "df_time = df_staging_immigration.withColumn(\"weekday\", dayofweek(\"date\"))\\\n",
    "                .withColumn(\"day\", dayofmonth(\"date\"))\\\n",
    "                .withColumn(\"week\", weekofyear(\"date\"))\\\n",
    "                .withColumn(\"month\", month(\"date\"))\\\n",
    "                .withColumn(\"year\", year(\"date\"))\n",
    "    \n",
    "    \n",
    "df_time = df_time.select(\"date\", \"day\", \"month\", \"year\", \"weekday\", \"week\").drop_duplicates()"
   ]
  },
  {
   "cell_type": "code",
   "execution_count": 43,
   "metadata": {},
   "outputs": [],
   "source": [
    "df_immigration = df_staging_immigration.select(\"id\", \"state_code\", \"city_code\", \"date\", \"count\").drop_duplicates()"
   ]
  },
  {
   "cell_type": "markdown",
   "metadata": {},
   "source": [
    "##### Save tables into parquet files"
   ]
  },
  {
   "cell_type": "code",
   "execution_count": null,
   "metadata": {},
   "outputs": [],
   "source": [
    "df_immigrant.write.mode(\"overwrite\").partitionBy(\"gender\", \"age\").parquet(\"immigrant\")\n",
    "\n",
    "df_city.write.mode(\"overwrite\").partitionBy(\"state_code\").parquet(\"city\")\n",
    "\n",
    "df_city_temp.write.mode(\"overwrite\").parquet(\"city_temperatue\")\n",
    "\n",
    "df_time.write.mode(\"overwrite\").parquet(\"time\")\n",
    "\n",
    "df_immigration.write.mode(\"overwrite\").partitionBy(\"state_code\", \"city_code\").parquet(\"immigration\")"
   ]
  },
  {
   "cell_type": "markdown",
   "metadata": {},
   "source": [
    "#### 4.2 Data Quality Checks\n",
    " \n",
    "Run Quality Checks"
   ]
  },
  {
   "cell_type": "code",
   "execution_count": 44,
   "metadata": {},
   "outputs": [],
   "source": [
    "# Check Tables exist\n",
    "def table_exists(df, df_name):\n",
    "    try:\n",
    "        if df is not None:\n",
    "            print(f\"Table existance check passed. {df_name} found!\")\n",
    "            return 1\n",
    "        else:\n",
    "            print(f\"Table existance check failed. {df_name} could not be found!\")\n",
    "            return 0\n",
    "        \n",
    "    except Exception as e:\n",
    "        \n",
    "        print((f\"Table existance check failed for {df_name}. Error occurred during check: {e}\"))\n",
    "        return 0"
   ]
  },
  {
   "cell_type": "code",
   "execution_count": 45,
   "metadata": {},
   "outputs": [],
   "source": [
    "# Check number of records in tables\n",
    "def records_found(df, df_name):\n",
    "    \n",
    "    try:\n",
    "        \n",
    "        record_count = df.count()\n",
    "    \n",
    "        if record_count == 0:\n",
    "            print(f\"Record check failed for {df_name}. No records found!\")\n",
    "            return 0\n",
    "        else:\n",
    "            print (f\"Record check passed for {df_name}. {record_count} records found!\")\n",
    "            return 1\n",
    "    \n",
    "    except Exception as e:\n",
    "        \n",
    "        print((f\"Record check failed for {df_name}. Error occurred during check: {e}\"))\n",
    "        return 0\n"
   ]
  },
  {
   "cell_type": "code",
   "execution_count": 46,
   "metadata": {},
   "outputs": [
    {
     "name": "stdout",
     "output_type": "stream",
     "text": [
      "Table existance check passed. df_immigrant found!\n",
      "Record check passed for df_immigrant. 3096313 records found!\n",
      "Table existance check passed. df_city found!\n",
      "Record check passed for df_city. 142 records found!\n",
      "Table existance check passed. df_city_temp found!\n",
      "Record check passed for df_city_temp. 313024 records found!\n",
      "Table existance check passed. df_time found!\n",
      "Record check passed for df_time. 30 records found!\n",
      "Table existance check passed. df_immigration found!\n",
      "Record check passed for df_immigration. 3096313 records found!\n",
      "Checks complete. 10/10 checks passed. All checks passed!\n"
     ]
    }
   ],
   "source": [
    "# Run checks\n",
    "dfs_dict = {\"df_immigrant\": df_immigrant,\n",
    "            \"df_city\": df_city, \n",
    "            \"df_city_temp\": df_city_temp, \n",
    "            \"df_time\": df_time, \n",
    "            \"df_immigration\": df_immigration}\n",
    "\n",
    "def run_checks(dfs_dict):\n",
    "    result = 0\n",
    "    total = 0\n",
    "    for df_name, df in dfs_dict.items():\n",
    "        result += table_exists(df, df_name) + records_found(df, df_name)\n",
    "        total  += 2\n",
    "    \n",
    "    if result == total:\n",
    "        msg = f\"Checks complete. {result}/{total} checks passed. All checks passed!\"\n",
    "    else:\n",
    "        msg = f\"Checks complete. {result}/{total} checks passed. {total-result} checks failed!\"\n",
    "    return msg\n",
    "\n",
    "print(run_checks(dfs_dict))\n",
    "\n",
    "    \n"
   ]
  },
  {
   "cell_type": "markdown",
   "metadata": {},
   "source": [
    "#### 4.3 Data dictionary \n",
    "A brief description of what the data is\n"
   ]
  },
  {
   "cell_type": "markdown",
   "metadata": {},
   "source": [
    "#### Dimension Tables\n",
    "df_immigrant\n",
    "   - id: id of immigrant\n",
    "   - age : age of immigrant\n",
    "   - gender: gender of immigrant\n",
    "   - visa_type : immigrant's visa type\n",
    "    \n",
    "df_city\n",
    "   - city_code: city port code\n",
    "   - state_code: state code of city\n",
    "   - city_name: name of city\n",
    "   - state_name: name of state\n",
    "   - median_age: median age of city's population\n",
    "   - male_pop: number of males in city\n",
    "   - female_pop: number of females in city\n",
    "   - total_pop: total population of city\n",
    "   - veterans_count: number of veterens in city\n",
    "   - foreign_born_count: number of people in city born in a foreign country\n",
    "   - avg_household_size: average size of houshold in city\n",
    "   - american_indian_alaska_native_count: number of American Indian and Alaskan Natives in city\n",
    "   - asian_count: number of Asians in city\n",
    "   - black_or_african_american_count: number of Black or African Americans in city\n",
    "   - hispanic_or_latino_count: number of hispanics or latinos in city\n",
    "   - white_count: number of white people in city\n",
    "   - lat: latitude of city\n",
    "   - long: longitude of city\n",
    "    \n",
    "    \n",
    "df_city_temp\n",
    "   - city_code: city port code\n",
    "   - date\n",
    "   - year\n",
    "   - month\n",
    "   - avg_temperature: average temperature in city for particular month\n",
    "   - avg_temperature_uncertainty: average temperature uncertainty in city for particular month\n",
    "    \n",
    "df_time\n",
    "  - date\n",
    "  - day\n",
    "  - month\n",
    "  - year\n",
    "  - weekday\n",
    "  - week\n",
    "  \n",
    "#### Fact Table\n",
    "df_immigration\n",
    "   - id: unique number \n",
    "   - state_code: state code of arrival city\n",
    "   - city_code: city port code of arrival city\n",
    "   - date: date of arrival\n",
    "   - count: used for summary statistics, always 1"
   ]
  },
  {
   "cell_type": "markdown",
   "metadata": {},
   "source": [
    "#### Step 5: Complete Project Write Up\n",
    "* Clearly state the rationale for the choice of tools and technologies for the project.\n",
    "    - Apache spark was used for this project because of it's ability to handle multiple file formats with large amounts of data. Furthermore, spark can quickly perform processing tasks on very large data sets and has an easy-to-use API. \n",
    "* Propose how often the data should be updated and why.\n",
    "    - As the I94 immigration data is updated monthly, the other relevant datasets should also be updated monthly. \n",
    "* Write a description of how you would approach the problem differently under the following scenarios:\n",
    " * The data was increased by 100x.\n",
    "     - If the data was increased by 100x I would consider running Spark in the cloud rather than in local mode. Running Spark across a spark cluster on Amazon EMR would allow for much faster processing. Moreover, rather than loading the data into parquet files, I would load the data into a relational database which would allow for more convenient querying and analysis of the data.\n",
    " * The data populates a dashboard that must be updated on a daily basis by 7am every day.\n",
    "     -  If this was the case I would use Apache Airflow to manage the ETL pipeline. This would allow for the data pipeline job to be scheduled and automated which would ensure that the pipeline runs on tim. Airflow also provides a convenient way of monitoring the ETL pipeline job.\n",
    " * The database needed to be accessed by 100+ people.\n",
    "     - I would use a cloud database solution to store the data (e.g. Amazon Redshift), as this is easily scalable (both horizontally and vertically, with autoscaling available) and a load balancer can be used to help manage traffic, which would ensure that the data can be accessed by a large volume of people at once, while maintaining fast performance."
   ]
  },
  {
   "cell_type": "markdown",
   "metadata": {},
   "source": [
    "## Sample Queries on final data model (after running etl.py)"
   ]
  },
  {
   "cell_type": "code",
   "execution_count": 2,
   "metadata": {},
   "outputs": [],
   "source": [
    "# Create Spark session\n",
    "spark = SparkSession.builder.\\\n",
    "config(\"spark.jars.repositories\", \"https://repos.spark-packages.org/\").\\\n",
    "config(\"spark.jars.packages\", \"saurfang:spark-sas7bdat:2.0.0-s_2.11\").\\\n",
    "enableHiveSupport().getOrCreate()"
   ]
  },
  {
   "cell_type": "code",
   "execution_count": 4,
   "metadata": {},
   "outputs": [],
   "source": [
    "# load dim and fact tables saved parquet output files\n",
    "df_dim_immigrant = spark.read.parquet('output/immigrant')\n",
    "df_dim_city = spark.read.parquet('output/city')\n",
    "df_dim_city_temp = spark.read.parquet('output/city_temperature')\n",
    "df_dim_time = spark.read.parquet('output/time')\n",
    "df_fact_immigration = spark.read.parquet('output/immigration')\n"
   ]
  },
  {
   "cell_type": "markdown",
   "metadata": {},
   "source": [
    "It might be interesting to see if immigrants tend to go to cities where there are more foreign born people. To check this lets carry out some analysis:"
   ]
  },
  {
   "cell_type": "code",
   "execution_count": 42,
   "metadata": {},
   "outputs": [],
   "source": [
    "# join df_fact_immigration with df_dim_city\n",
    "df_join = df_fact_immigration.join(df_dim_city, \n",
    "                             (df_fact_immigration.city_code == df_dim_city.city_code) & \n",
    "                             (df_fact_immigration.state_code == df_dim_city.state_code))"
   ]
  },
  {
   "cell_type": "code",
   "execution_count": 43,
   "metadata": {},
   "outputs": [
    {
     "name": "stdout",
     "output_type": "stream",
     "text": [
      "+---------+-------------+----------+------------------+---------+------------------+\n",
      "|       id|    city_name|state_code|foreign_born_count|total_pop|  foreign_born_pct|\n",
      "+---------+-------------+----------+------------------+---------+------------------+\n",
      "|  21853.0|     New York|        NY|           3212500|  8550405| 37.57131972111263|\n",
      "| 243533.0|  Los Angeles|        CA|           1485425|  3971896|37.398386060460794|\n",
      "| 445543.0|       Boston|        MA|            190123|   669469| 28.39907449037969|\n",
      "| 450428.0|      Atlanta|        GA|             32016|   463875| 6.901859337105902|\n",
      "| 629341.0|      Orlando|        FL|             50558|   270917| 18.66180416880447|\n",
      "| 632051.0|      Houston|        TX|            696210|  2298628| 30.28806749069445|\n",
      "| 647895.0|        Miami|        FL|            260789|   440989|  59.1373027445129|\n",
      "| 660401.0|     New York|        NY|           3212500|  8550405| 37.57131972111263|\n",
      "| 799153.0|       Dallas|        TX|            326825|  1300082|  25.1387989372978|\n",
      "| 875324.0|  Los Angeles|        CA|           1485425|  3971896|37.398386060460794|\n",
      "|1159375.0|     New York|        NY|           3212500|  8550405| 37.57131972111263|\n",
      "|1329994.0|        Miami|        FL|            260789|   440989|  59.1373027445129|\n",
      "|1411151.0|San Francisco|        CA|            297199|   864816|34.365576030045695|\n",
      "|1576982.0|        Miami|        FL|            260789|   440989|  59.1373027445129|\n",
      "|1793332.0|      Atlanta|        GA|             32016|   463875| 6.901859337105902|\n",
      "|1958155.0|        Miami|        FL|            260789|   440989|  59.1373027445129|\n",
      "|1992560.0|        Miami|        FL|            260789|   440989|  59.1373027445129|\n",
      "|2006529.0|      Orlando|        FL|             50558|   270917| 18.66180416880447|\n",
      "|2035175.0|San Francisco|        CA|            297199|   864816|34.365576030045695|\n",
      "|2302377.0|        Miami|        FL|            260789|   440989|  59.1373027445129|\n",
      "+---------+-------------+----------+------------------+---------+------------------+\n",
      "only showing top 20 rows\n",
      "\n"
     ]
    }
   ],
   "source": [
    "# return only columns we want to keep\n",
    "df = df_join.select('id',\"city_name\", df_fact_immigration[\"state_code\"], \n",
    "        'foreign_born_count','total_pop')\\\n",
    "        .withColumn(\"foreign_born_pct\", (df['foreign_born_count']/df['total_pop']) * 100)\n",
    "\n",
    "df.show()"
   ]
  },
  {
   "cell_type": "code",
   "execution_count": 44,
   "metadata": {},
   "outputs": [
    {
     "name": "stdout",
     "output_type": "stream",
     "text": [
      "+---------------+----------+------------------+------------------+------+\n",
      "|      city_name|state_code|foreign_born_count|  foreign_born_pct| count|\n",
      "+---------------+----------+------------------+------------------+------+\n",
      "|       New York|        NY|           3212500| 37.57131972111263|342609|\n",
      "|          Miami|        FL|            260789|  59.1373027445129|265496|\n",
      "|    Los Angeles|        CA|           1485425|37.398386060460794|205618|\n",
      "|  San Francisco|        CA|            297199|34.365576030045695|112967|\n",
      "|        Orlando|        FL|             50558| 18.66180416880447|112710|\n",
      "|        Chicago|        IL|            573463|21.078889756358627| 52888|\n",
      "|Fort Lauderdale|        FL|             47582|26.643596678369647| 52774|\n",
      "|        Houston|        TX|            696210| 30.28806749069445| 49547|\n",
      "|      Las Vegas|        NV|            127609|20.457733552004026| 48012|\n",
      "|         Boston|        MA|            190123| 28.39907449037969| 36117|\n",
      "|         Dallas|        TX|            326825|  25.1387989372978| 28238|\n",
      "|        Atlanta|        GA|             32016| 6.901859337105902| 25851|\n",
      "|         Newark|        NJ|             86253|30.595609283715184| 24078|\n",
      "|        Seattle|        WA|            119840|17.509127860172434| 22740|\n",
      "|     Washington|        DC|             95117|14.149514747972415| 16843|\n",
      "|          Tampa|        FL|             58795|15.932395373792774| 13536|\n",
      "|        Detroit|        MI|             39861| 5.886809506087511| 13323|\n",
      "|      San Diego|        CA|            373842|26.800496377177836|  6987|\n",
      "|   Philadelphia|        PA|            205339|13.100261445080582|  6408|\n",
      "|         Denver|        CO|            113222|16.588210301152305|  6015|\n",
      "+---------------+----------+------------------+------------------+------+\n",
      "only showing top 20 rows\n",
      "\n"
     ]
    }
   ],
   "source": [
    "from pyspark.sql.functions import desc\n",
    "\n",
    "df = df.groupBy('city_name','state_code','foreign_born_count','foreign_born_pct').count()\\\n",
    "    .orderBy(desc('count'))\n",
    "\n",
    "df.show()"
   ]
  },
  {
   "cell_type": "code",
   "execution_count": 54,
   "metadata": {},
   "outputs": [],
   "source": [
    "df = df.toPandas()"
   ]
  },
  {
   "cell_type": "code",
   "execution_count": 64,
   "metadata": {},
   "outputs": [
    {
     "data": {
      "image/png": "[encoded data removed]",
      "text/plain": [
       "<matplotlib.figure.Figure at 0x7f3cc5c833c8>"
      ]
     },
     "metadata": {
      "needs_background": "light"
     },
     "output_type": "display_data"
    }
   ],
   "source": [
    "fb_count = df.plot.scatter(x='foreign_born_count',\n",
    "                   y='count')"
   ]
  },
  {
   "cell_type": "code",
   "execution_count": 65,
   "metadata": {},
   "outputs": [
    {
     "data": {
      "image/png": "[encoded data removed]",
      "text/plain": [
       "<matplotlib.figure.Figure at 0x7f3cc5cda128>"
      ]
     },
     "metadata": {
      "needs_background": "light"
     },
     "output_type": "display_data"
    }
   ],
   "source": [
    "fb_pct = df.plot.scatter(x='foreign_born_pct',\n",
    "                   y='count')"
   ]
  },
  {
   "cell_type": "markdown",
   "metadata": {},
   "source": [
    "Looking at the graphs above, there appears to be a slight correlation, although the data is hardly conclusive.\n",
    "Lets sort the data by the foreign_born_pct to see if we can gather any more insights."
   ]
  },
  {
   "cell_type": "code",
   "execution_count": 66,
   "metadata": {},
   "outputs": [
    {
     "data": {
      "text/html": [
       "<div>\n",
       "<style scoped>\n",
       "    .dataframe tbody tr th:only-of-type {\n",
       "        vertical-align: middle;\n",
       "    }\n",
       "\n",
       "    .dataframe tbody tr th {\n",
       "        vertical-align: top;\n",
       "    }\n",
       "\n",
       "    .dataframe thead th {\n",
       "        text-align: right;\n",
       "    }\n",
       "</style>\n",
       "<table border=\"1\" class=\"dataframe\">\n",
       "  <thead>\n",
       "    <tr style=\"text-align: right;\">\n",
       "      <th></th>\n",
       "      <th>city_name</th>\n",
       "      <th>state_code</th>\n",
       "      <th>foreign_born_count</th>\n",
       "      <th>foreign_born_pct</th>\n",
       "      <th>count</th>\n",
       "    </tr>\n",
       "  </thead>\n",
       "  <tbody>\n",
       "    <tr>\n",
       "      <th>1</th>\n",
       "      <td>Miami</td>\n",
       "      <td>FL</td>\n",
       "      <td>260789</td>\n",
       "      <td>59.137303</td>\n",
       "      <td>265496</td>\n",
       "    </tr>\n",
       "    <tr>\n",
       "      <th>37</th>\n",
       "      <td>Santa Ana</td>\n",
       "      <td>CA</td>\n",
       "      <td>152999</td>\n",
       "      <td>45.613747</td>\n",
       "      <td>267</td>\n",
       "    </tr>\n",
       "    <tr>\n",
       "      <th>22</th>\n",
       "      <td>San Jose</td>\n",
       "      <td>CA</td>\n",
       "      <td>401493</td>\n",
       "      <td>39.096852</td>\n",
       "      <td>4245</td>\n",
       "    </tr>\n",
       "    <tr>\n",
       "      <th>0</th>\n",
       "      <td>New York</td>\n",
       "      <td>NY</td>\n",
       "      <td>3212500</td>\n",
       "      <td>37.571320</td>\n",
       "      <td>342609</td>\n",
       "    </tr>\n",
       "    <tr>\n",
       "      <th>2</th>\n",
       "      <td>Los Angeles</td>\n",
       "      <td>CA</td>\n",
       "      <td>1485425</td>\n",
       "      <td>37.398386</td>\n",
       "      <td>205618</td>\n",
       "    </tr>\n",
       "    <tr>\n",
       "      <th>3</th>\n",
       "      <td>San Francisco</td>\n",
       "      <td>CA</td>\n",
       "      <td>297199</td>\n",
       "      <td>34.365576</td>\n",
       "      <td>112967</td>\n",
       "    </tr>\n",
       "    <tr>\n",
       "      <th>12</th>\n",
       "      <td>Newark</td>\n",
       "      <td>NJ</td>\n",
       "      <td>86253</td>\n",
       "      <td>30.595609</td>\n",
       "      <td>24078</td>\n",
       "    </tr>\n",
       "    <tr>\n",
       "      <th>7</th>\n",
       "      <td>Houston</td>\n",
       "      <td>TX</td>\n",
       "      <td>696210</td>\n",
       "      <td>30.288067</td>\n",
       "      <td>49547</td>\n",
       "    </tr>\n",
       "    <tr>\n",
       "      <th>52</th>\n",
       "      <td>Providence</td>\n",
       "      <td>RI</td>\n",
       "      <td>53532</td>\n",
       "      <td>29.872101</td>\n",
       "      <td>12</td>\n",
       "    </tr>\n",
       "    <tr>\n",
       "      <th>36</th>\n",
       "      <td>Brownsville</td>\n",
       "      <td>TX</td>\n",
       "      <td>53301</td>\n",
       "      <td>28.985578</td>\n",
       "      <td>299</td>\n",
       "    </tr>\n",
       "    <tr>\n",
       "      <th>63</th>\n",
       "      <td>Alexandria</td>\n",
       "      <td>VA</td>\n",
       "      <td>44030</td>\n",
       "      <td>28.681984</td>\n",
       "      <td>2</td>\n",
       "    </tr>\n",
       "    <tr>\n",
       "      <th>9</th>\n",
       "      <td>Boston</td>\n",
       "      <td>MA</td>\n",
       "      <td>190123</td>\n",
       "      <td>28.399074</td>\n",
       "      <td>36117</td>\n",
       "    </tr>\n",
       "    <tr>\n",
       "      <th>31</th>\n",
       "      <td>Ontario</td>\n",
       "      <td>CA</td>\n",
       "      <td>48557</td>\n",
       "      <td>28.362734</td>\n",
       "      <td>769</td>\n",
       "    </tr>\n",
       "    <tr>\n",
       "      <th>24</th>\n",
       "      <td>Oakland</td>\n",
       "      <td>CA</td>\n",
       "      <td>113896</td>\n",
       "      <td>27.164793</td>\n",
       "      <td>3412</td>\n",
       "    </tr>\n",
       "    <tr>\n",
       "      <th>35</th>\n",
       "      <td>Long Beach</td>\n",
       "      <td>CA</td>\n",
       "      <td>127764</td>\n",
       "      <td>26.944653</td>\n",
       "      <td>352</td>\n",
       "    </tr>\n",
       "    <tr>\n",
       "      <th>17</th>\n",
       "      <td>San Diego</td>\n",
       "      <td>CA</td>\n",
       "      <td>373842</td>\n",
       "      <td>26.800496</td>\n",
       "      <td>6987</td>\n",
       "    </tr>\n",
       "    <tr>\n",
       "      <th>42</th>\n",
       "      <td>Laredo</td>\n",
       "      <td>TX</td>\n",
       "      <td>68427</td>\n",
       "      <td>26.751346</td>\n",
       "      <td>59</td>\n",
       "    </tr>\n",
       "    <tr>\n",
       "      <th>6</th>\n",
       "      <td>Fort Lauderdale</td>\n",
       "      <td>FL</td>\n",
       "      <td>47582</td>\n",
       "      <td>26.643597</td>\n",
       "      <td>52774</td>\n",
       "    </tr>\n",
       "    <tr>\n",
       "      <th>10</th>\n",
       "      <td>Dallas</td>\n",
       "      <td>TX</td>\n",
       "      <td>326825</td>\n",
       "      <td>25.138799</td>\n",
       "      <td>28238</td>\n",
       "    </tr>\n",
       "    <tr>\n",
       "      <th>41</th>\n",
       "      <td>El Paso</td>\n",
       "      <td>TX</td>\n",
       "      <td>159709</td>\n",
       "      <td>23.447447</td>\n",
       "      <td>82</td>\n",
       "    </tr>\n",
       "    <tr>\n",
       "      <th>64</th>\n",
       "      <td>Hartford</td>\n",
       "      <td>CT</td>\n",
       "      <td>28467</td>\n",
       "      <td>22.954666</td>\n",
       "      <td>2</td>\n",
       "    </tr>\n",
       "    <tr>\n",
       "      <th>26</th>\n",
       "      <td>Sacramento</td>\n",
       "      <td>CA</td>\n",
       "      <td>112579</td>\n",
       "      <td>22.941830</td>\n",
       "      <td>2058</td>\n",
       "    </tr>\n",
       "    <tr>\n",
       "      <th>5</th>\n",
       "      <td>Chicago</td>\n",
       "      <td>IL</td>\n",
       "      <td>573463</td>\n",
       "      <td>21.078890</td>\n",
       "      <td>52888</td>\n",
       "    </tr>\n",
       "    <tr>\n",
       "      <th>8</th>\n",
       "      <td>Las Vegas</td>\n",
       "      <td>NV</td>\n",
       "      <td>127609</td>\n",
       "      <td>20.457734</td>\n",
       "      <td>48012</td>\n",
       "    </tr>\n",
       "    <tr>\n",
       "      <th>61</th>\n",
       "      <td>Fresno</td>\n",
       "      <td>CA</td>\n",
       "      <td>103453</td>\n",
       "      <td>19.892053</td>\n",
       "      <td>3</td>\n",
       "    </tr>\n",
       "    <tr>\n",
       "      <th>25</th>\n",
       "      <td>Austin</td>\n",
       "      <td>TX</td>\n",
       "      <td>181686</td>\n",
       "      <td>19.497553</td>\n",
       "      <td>2894</td>\n",
       "    </tr>\n",
       "    <tr>\n",
       "      <th>20</th>\n",
       "      <td>Phoenix</td>\n",
       "      <td>AZ</td>\n",
       "      <td>300702</td>\n",
       "      <td>19.238759</td>\n",
       "      <td>5703</td>\n",
       "    </tr>\n",
       "    <tr>\n",
       "      <th>4</th>\n",
       "      <td>Orlando</td>\n",
       "      <td>FL</td>\n",
       "      <td>50558</td>\n",
       "      <td>18.661804</td>\n",
       "      <td>112710</td>\n",
       "    </tr>\n",
       "    <tr>\n",
       "      <th>13</th>\n",
       "      <td>Seattle</td>\n",
       "      <td>WA</td>\n",
       "      <td>119840</td>\n",
       "      <td>17.509128</td>\n",
       "      <td>22740</td>\n",
       "    </tr>\n",
       "    <tr>\n",
       "      <th>59</th>\n",
       "      <td>Kansas City</td>\n",
       "      <td>KS</td>\n",
       "      <td>25507</td>\n",
       "      <td>16.862906</td>\n",
       "      <td>7</td>\n",
       "    </tr>\n",
       "    <tr>\n",
       "      <th>...</th>\n",
       "      <td>...</td>\n",
       "      <td>...</td>\n",
       "      <td>...</td>\n",
       "      <td>...</td>\n",
       "      <td>...</td>\n",
       "    </tr>\n",
       "    <tr>\n",
       "      <th>46</th>\n",
       "      <td>Nashville</td>\n",
       "      <td>TN</td>\n",
       "      <td>88193</td>\n",
       "      <td>13.472890</td>\n",
       "      <td>26</td>\n",
       "    </tr>\n",
       "    <tr>\n",
       "      <th>57</th>\n",
       "      <td>Manchester</td>\n",
       "      <td>NH</td>\n",
       "      <td>14506</td>\n",
       "      <td>13.160593</td>\n",
       "      <td>7</td>\n",
       "    </tr>\n",
       "    <tr>\n",
       "      <th>18</th>\n",
       "      <td>Philadelphia</td>\n",
       "      <td>PA</td>\n",
       "      <td>205339</td>\n",
       "      <td>13.100261</td>\n",
       "      <td>6408</td>\n",
       "    </tr>\n",
       "    <tr>\n",
       "      <th>50</th>\n",
       "      <td>Syracuse</td>\n",
       "      <td>NY</td>\n",
       "      <td>17733</td>\n",
       "      <td>12.301598</td>\n",
       "      <td>15</td>\n",
       "    </tr>\n",
       "    <tr>\n",
       "      <th>56</th>\n",
       "      <td>Mesa</td>\n",
       "      <td>AZ</td>\n",
       "      <td>57492</td>\n",
       "      <td>12.184820</td>\n",
       "      <td>8</td>\n",
       "    </tr>\n",
       "    <tr>\n",
       "      <th>43</th>\n",
       "      <td>Anchorage</td>\n",
       "      <td>AK</td>\n",
       "      <td>33258</td>\n",
       "      <td>11.134435</td>\n",
       "      <td>50</td>\n",
       "    </tr>\n",
       "    <tr>\n",
       "      <th>55</th>\n",
       "      <td>Omaha</td>\n",
       "      <td>NE</td>\n",
       "      <td>48263</td>\n",
       "      <td>10.872812</td>\n",
       "      <td>9</td>\n",
       "    </tr>\n",
       "    <tr>\n",
       "      <th>62</th>\n",
       "      <td>Albuquerque</td>\n",
       "      <td>NM</td>\n",
       "      <td>58200</td>\n",
       "      <td>10.409010</td>\n",
       "      <td>3</td>\n",
       "    </tr>\n",
       "    <tr>\n",
       "      <th>44</th>\n",
       "      <td>Jacksonville</td>\n",
       "      <td>FL</td>\n",
       "      <td>85650</td>\n",
       "      <td>9.867159</td>\n",
       "      <td>44</td>\n",
       "    </tr>\n",
       "    <tr>\n",
       "      <th>70</th>\n",
       "      <td>Milwaukee</td>\n",
       "      <td>WI</td>\n",
       "      <td>58321</td>\n",
       "      <td>9.717672</td>\n",
       "      <td>1</td>\n",
       "    </tr>\n",
       "    <tr>\n",
       "      <th>33</th>\n",
       "      <td>Buffalo</td>\n",
       "      <td>NY</td>\n",
       "      <td>24630</td>\n",
       "      <td>9.544070</td>\n",
       "      <td>637</td>\n",
       "    </tr>\n",
       "    <tr>\n",
       "      <th>49</th>\n",
       "      <td>Indianapolis</td>\n",
       "      <td>IN</td>\n",
       "      <td>72456</td>\n",
       "      <td>8.540080</td>\n",
       "      <td>18</td>\n",
       "    </tr>\n",
       "    <tr>\n",
       "      <th>71</th>\n",
       "      <td>Lincoln</td>\n",
       "      <td>NE</td>\n",
       "      <td>22958</td>\n",
       "      <td>8.277747</td>\n",
       "      <td>1</td>\n",
       "    </tr>\n",
       "    <tr>\n",
       "      <th>27</th>\n",
       "      <td>Baltimore</td>\n",
       "      <td>MD</td>\n",
       "      <td>49857</td>\n",
       "      <td>8.017541</td>\n",
       "      <td>1481</td>\n",
       "    </tr>\n",
       "    <tr>\n",
       "      <th>47</th>\n",
       "      <td>Kansas City</td>\n",
       "      <td>MO</td>\n",
       "      <td>37787</td>\n",
       "      <td>7.949117</td>\n",
       "      <td>23</td>\n",
       "    </tr>\n",
       "    <tr>\n",
       "      <th>48</th>\n",
       "      <td>Savannah</td>\n",
       "      <td>GA</td>\n",
       "      <td>10355</td>\n",
       "      <td>7.107850</td>\n",
       "      <td>21</td>\n",
       "    </tr>\n",
       "    <tr>\n",
       "      <th>11</th>\n",
       "      <td>Atlanta</td>\n",
       "      <td>GA</td>\n",
       "      <td>32016</td>\n",
       "      <td>6.901859</td>\n",
       "      <td>25851</td>\n",
       "    </tr>\n",
       "    <tr>\n",
       "      <th>51</th>\n",
       "      <td>Norfolk</td>\n",
       "      <td>VA</td>\n",
       "      <td>16702</td>\n",
       "      <td>6.778602</td>\n",
       "      <td>14</td>\n",
       "    </tr>\n",
       "    <tr>\n",
       "      <th>60</th>\n",
       "      <td>Huntsville</td>\n",
       "      <td>AL</td>\n",
       "      <td>12691</td>\n",
       "      <td>6.710767</td>\n",
       "      <td>4</td>\n",
       "    </tr>\n",
       "    <tr>\n",
       "      <th>67</th>\n",
       "      <td>Memphis</td>\n",
       "      <td>TN</td>\n",
       "      <td>43318</td>\n",
       "      <td>6.605770</td>\n",
       "      <td>2</td>\n",
       "    </tr>\n",
       "    <tr>\n",
       "      <th>68</th>\n",
       "      <td>Spokane</td>\n",
       "      <td>WA</td>\n",
       "      <td>13253</td>\n",
       "      <td>6.214276</td>\n",
       "      <td>1</td>\n",
       "    </tr>\n",
       "    <tr>\n",
       "      <th>16</th>\n",
       "      <td>Detroit</td>\n",
       "      <td>MI</td>\n",
       "      <td>39861</td>\n",
       "      <td>5.886810</td>\n",
       "      <td>13323</td>\n",
       "    </tr>\n",
       "    <tr>\n",
       "      <th>32</th>\n",
       "      <td>Cincinnati</td>\n",
       "      <td>OH</td>\n",
       "      <td>16896</td>\n",
       "      <td>5.659600</td>\n",
       "      <td>711</td>\n",
       "    </tr>\n",
       "    <tr>\n",
       "      <th>34</th>\n",
       "      <td>New Orleans</td>\n",
       "      <td>LA</td>\n",
       "      <td>21679</td>\n",
       "      <td>5.564182</td>\n",
       "      <td>546</td>\n",
       "    </tr>\n",
       "    <tr>\n",
       "      <th>65</th>\n",
       "      <td>Baton Rouge</td>\n",
       "      <td>LA</td>\n",
       "      <td>12268</td>\n",
       "      <td>5.366673</td>\n",
       "      <td>2</td>\n",
       "    </tr>\n",
       "    <tr>\n",
       "      <th>45</th>\n",
       "      <td>Cleveland</td>\n",
       "      <td>OH</td>\n",
       "      <td>18830</td>\n",
       "      <td>4.852355</td>\n",
       "      <td>43</td>\n",
       "    </tr>\n",
       "    <tr>\n",
       "      <th>53</th>\n",
       "      <td>Columbia</td>\n",
       "      <td>SC</td>\n",
       "      <td>6074</td>\n",
       "      <td>4.553462</td>\n",
       "      <td>9</td>\n",
       "    </tr>\n",
       "    <tr>\n",
       "      <th>54</th>\n",
       "      <td>Charleston</td>\n",
       "      <td>SC</td>\n",
       "      <td>5767</td>\n",
       "      <td>4.255335</td>\n",
       "      <td>9</td>\n",
       "    </tr>\n",
       "    <tr>\n",
       "      <th>66</th>\n",
       "      <td>Birmingham</td>\n",
       "      <td>AL</td>\n",
       "      <td>8258</td>\n",
       "      <td>3.842521</td>\n",
       "      <td>2</td>\n",
       "    </tr>\n",
       "    <tr>\n",
       "      <th>69</th>\n",
       "      <td>Mobile</td>\n",
       "      <td>AL</td>\n",
       "      <td>7234</td>\n",
       "      <td>3.723013</td>\n",
       "      <td>1</td>\n",
       "    </tr>\n",
       "  </tbody>\n",
       "</table>\n",
       "<p>72 rows × 5 columns</p>\n",
       "</div>"
      ],
      "text/plain": [
       "          city_name state_code  foreign_born_count  foreign_born_pct   count\n",
       "1             Miami         FL              260789         59.137303  265496\n",
       "37        Santa Ana         CA              152999         45.613747     267\n",
       "22         San Jose         CA              401493         39.096852    4245\n",
       "0          New York         NY             3212500         37.571320  342609\n",
       "2       Los Angeles         CA             1485425         37.398386  205618\n",
       "3     San Francisco         CA              297199         34.365576  112967\n",
       "12           Newark         NJ               86253         30.595609   24078\n",
       "7           Houston         TX              696210         30.288067   49547\n",
       "52       Providence         RI               53532         29.872101      12\n",
       "36      Brownsville         TX               53301         28.985578     299\n",
       "63       Alexandria         VA               44030         28.681984       2\n",
       "9            Boston         MA              190123         28.399074   36117\n",
       "31          Ontario         CA               48557         28.362734     769\n",
       "24          Oakland         CA              113896         27.164793    3412\n",
       "35       Long Beach         CA              127764         26.944653     352\n",
       "17        San Diego         CA              373842         26.800496    6987\n",
       "42           Laredo         TX               68427         26.751346      59\n",
       "6   Fort Lauderdale         FL               47582         26.643597   52774\n",
       "10           Dallas         TX              326825         25.138799   28238\n",
       "41          El Paso         TX              159709         23.447447      82\n",
       "64         Hartford         CT               28467         22.954666       2\n",
       "26       Sacramento         CA              112579         22.941830    2058\n",
       "5           Chicago         IL              573463         21.078890   52888\n",
       "8         Las Vegas         NV              127609         20.457734   48012\n",
       "61           Fresno         CA              103453         19.892053       3\n",
       "25           Austin         TX              181686         19.497553    2894\n",
       "20          Phoenix         AZ              300702         19.238759    5703\n",
       "4           Orlando         FL               50558         18.661804  112710\n",
       "13          Seattle         WA              119840         17.509128   22740\n",
       "59      Kansas City         KS               25507         16.862906       7\n",
       "..              ...        ...                 ...               ...     ...\n",
       "46        Nashville         TN               88193         13.472890      26\n",
       "57       Manchester         NH               14506         13.160593       7\n",
       "18     Philadelphia         PA              205339         13.100261    6408\n",
       "50         Syracuse         NY               17733         12.301598      15\n",
       "56             Mesa         AZ               57492         12.184820       8\n",
       "43        Anchorage         AK               33258         11.134435      50\n",
       "55            Omaha         NE               48263         10.872812       9\n",
       "62      Albuquerque         NM               58200         10.409010       3\n",
       "44     Jacksonville         FL               85650          9.867159      44\n",
       "70        Milwaukee         WI               58321          9.717672       1\n",
       "33          Buffalo         NY               24630          9.544070     637\n",
       "49     Indianapolis         IN               72456          8.540080      18\n",
       "71          Lincoln         NE               22958          8.277747       1\n",
       "27        Baltimore         MD               49857          8.017541    1481\n",
       "47      Kansas City         MO               37787          7.949117      23\n",
       "48         Savannah         GA               10355          7.107850      21\n",
       "11          Atlanta         GA               32016          6.901859   25851\n",
       "51          Norfolk         VA               16702          6.778602      14\n",
       "60       Huntsville         AL               12691          6.710767       4\n",
       "67          Memphis         TN               43318          6.605770       2\n",
       "68          Spokane         WA               13253          6.214276       1\n",
       "16          Detroit         MI               39861          5.886810   13323\n",
       "32       Cincinnati         OH               16896          5.659600     711\n",
       "34      New Orleans         LA               21679          5.564182     546\n",
       "65      Baton Rouge         LA               12268          5.366673       2\n",
       "45        Cleveland         OH               18830          4.852355      43\n",
       "53         Columbia         SC                6074          4.553462       9\n",
       "54       Charleston         SC                5767          4.255335       9\n",
       "66       Birmingham         AL                8258          3.842521       2\n",
       "69           Mobile         AL                7234          3.723013       1\n",
       "\n",
       "[72 rows x 5 columns]"
      ]
     },
     "execution_count": 66,
     "metadata": {},
     "output_type": "execute_result"
    }
   ],
   "source": [
    "df.sort_values('foreign_born_pct', ascending=False)"
   ]
  },
  {
   "cell_type": "markdown",
   "metadata": {},
   "source": [
    "Looking at the data there does not seem to be a strong correlation. Although there are cities like New York, Miami and Los Angeles with a high foreign_born_pct, which also have a large amount of immigration, there are also many other cities such as Santa Ana, Providence and Brownsville with a high foreign_born_pct but low immigration. Morever, cities like Atlanta and Detroit have a very low foreign_born_pct yet high immigration.\n",
    "\n",
    "Perahps a more likey reason for these cities that have higher levels of immigration (such as New York, Miami, Los Angeles, Atlanta and Detroit) are due to these cities being more major cities (i.e. more populous.)\n",
    "\n",
    "Lets carry out some further analysis to see if this is correct:"
   ]
  },
  {
   "cell_type": "code",
   "execution_count": 70,
   "metadata": {},
   "outputs": [],
   "source": [
    "df_pop = df_join.select('id',\"city_name\", df_fact_immigration[\"state_code\"], 'total_pop')\n",
    "     "
   ]
  },
  {
   "cell_type": "code",
   "execution_count": 71,
   "metadata": {},
   "outputs": [
    {
     "name": "stdout",
     "output_type": "stream",
     "text": [
      "+--------+-----------+----------+---------+\n",
      "|      id|  city_name|state_code|total_pop|\n",
      "+--------+-----------+----------+---------+\n",
      "| 21853.0|   New York|        NY|  8550405|\n",
      "|243533.0|Los Angeles|        CA|  3971896|\n",
      "|445543.0|     Boston|        MA|   669469|\n",
      "|450428.0|    Atlanta|        GA|   463875|\n",
      "|629341.0|    Orlando|        FL|   270917|\n",
      "+--------+-----------+----------+---------+\n",
      "only showing top 5 rows\n",
      "\n"
     ]
    }
   ],
   "source": [
    "df_pop.show(5)"
   ]
  },
  {
   "cell_type": "code",
   "execution_count": 72,
   "metadata": {},
   "outputs": [
    {
     "name": "stdout",
     "output_type": "stream",
     "text": [
      "+---------------+----------+---------+------+\n",
      "|      city_name|state_code|total_pop| count|\n",
      "+---------------+----------+---------+------+\n",
      "|       New York|        NY|  8550405|342609|\n",
      "|          Miami|        FL|   440989|265496|\n",
      "|    Los Angeles|        CA|  3971896|205618|\n",
      "|  San Francisco|        CA|   864816|112967|\n",
      "|        Orlando|        FL|   270917|112710|\n",
      "|        Chicago|        IL|  2720556| 52888|\n",
      "|Fort Lauderdale|        FL|   178587| 52774|\n",
      "+---------------+----------+---------+------+\n",
      "only showing top 7 rows\n",
      "\n"
     ]
    }
   ],
   "source": [
    "df_pop = df_pop.groupBy('city_name','state_code','total_pop').count()\\\n",
    "    .orderBy(desc('count'))\n",
    "\n",
    "df_pop.show(7)"
   ]
  },
  {
   "cell_type": "code",
   "execution_count": 73,
   "metadata": {},
   "outputs": [
    {
     "data": {
      "image/png": "[encoded data removed]",
      "text/plain": [
       "<matplotlib.figure.Figure at 0x7f3cc5946390>"
      ]
     },
     "metadata": {
      "needs_background": "light"
     },
     "output_type": "display_data"
    }
   ],
   "source": [
    "df_pop = df_pop.toPandas()\n",
    "\n",
    "population_vs_immigration = df_pop.plot.scatter(x='total_pop',\n",
    "                   y='count')"
   ]
  },
  {
   "cell_type": "code",
   "execution_count": 89,
   "metadata": {},
   "outputs": [
    {
     "data": {
      "image/png": "[encoded data removed]",
      "text/plain": [
       "<matplotlib.figure.Figure at 0x7f3cc5502c88>"
      ]
     },
     "metadata": {
      "needs_background": "light"
     },
     "output_type": "display_data"
    }
   ],
   "source": [
    "# lets make the scatter plot wider\n",
    "plt.rcParams[\"figure.figsize\"] = (20, 5)\n",
    "df_pop.plot.scatter(x='total_pop',y='count');"
   ]
  },
  {
   "cell_type": "code",
   "execution_count": 74,
   "metadata": {},
   "outputs": [
    {
     "data": {
      "text/html": [
       "<div>\n",
       "<style scoped>\n",
       "    .dataframe tbody tr th:only-of-type {\n",
       "        vertical-align: middle;\n",
       "    }\n",
       "\n",
       "    .dataframe tbody tr th {\n",
       "        vertical-align: top;\n",
       "    }\n",
       "\n",
       "    .dataframe thead th {\n",
       "        text-align: right;\n",
       "    }\n",
       "</style>\n",
       "<table border=\"1\" class=\"dataframe\">\n",
       "  <thead>\n",
       "    <tr style=\"text-align: right;\">\n",
       "      <th></th>\n",
       "      <th>city_name</th>\n",
       "      <th>state_code</th>\n",
       "      <th>total_pop</th>\n",
       "      <th>count</th>\n",
       "    </tr>\n",
       "  </thead>\n",
       "  <tbody>\n",
       "    <tr>\n",
       "      <th>0</th>\n",
       "      <td>New York</td>\n",
       "      <td>NY</td>\n",
       "      <td>8550405</td>\n",
       "      <td>342609</td>\n",
       "    </tr>\n",
       "    <tr>\n",
       "      <th>2</th>\n",
       "      <td>Los Angeles</td>\n",
       "      <td>CA</td>\n",
       "      <td>3971896</td>\n",
       "      <td>205618</td>\n",
       "    </tr>\n",
       "    <tr>\n",
       "      <th>5</th>\n",
       "      <td>Chicago</td>\n",
       "      <td>IL</td>\n",
       "      <td>2720556</td>\n",
       "      <td>52888</td>\n",
       "    </tr>\n",
       "    <tr>\n",
       "      <th>7</th>\n",
       "      <td>Houston</td>\n",
       "      <td>TX</td>\n",
       "      <td>2298628</td>\n",
       "      <td>49547</td>\n",
       "    </tr>\n",
       "    <tr>\n",
       "      <th>18</th>\n",
       "      <td>Philadelphia</td>\n",
       "      <td>PA</td>\n",
       "      <td>1567442</td>\n",
       "      <td>6408</td>\n",
       "    </tr>\n",
       "    <tr>\n",
       "      <th>20</th>\n",
       "      <td>Phoenix</td>\n",
       "      <td>AZ</td>\n",
       "      <td>1563001</td>\n",
       "      <td>5703</td>\n",
       "    </tr>\n",
       "    <tr>\n",
       "      <th>21</th>\n",
       "      <td>San Antonio</td>\n",
       "      <td>TX</td>\n",
       "      <td>1469824</td>\n",
       "      <td>5660</td>\n",
       "    </tr>\n",
       "    <tr>\n",
       "      <th>17</th>\n",
       "      <td>San Diego</td>\n",
       "      <td>CA</td>\n",
       "      <td>1394907</td>\n",
       "      <td>6987</td>\n",
       "    </tr>\n",
       "    <tr>\n",
       "      <th>10</th>\n",
       "      <td>Dallas</td>\n",
       "      <td>TX</td>\n",
       "      <td>1300082</td>\n",
       "      <td>28238</td>\n",
       "    </tr>\n",
       "    <tr>\n",
       "      <th>22</th>\n",
       "      <td>San Jose</td>\n",
       "      <td>CA</td>\n",
       "      <td>1026919</td>\n",
       "      <td>4245</td>\n",
       "    </tr>\n",
       "    <tr>\n",
       "      <th>25</th>\n",
       "      <td>Austin</td>\n",
       "      <td>TX</td>\n",
       "      <td>931840</td>\n",
       "      <td>2894</td>\n",
       "    </tr>\n",
       "    <tr>\n",
       "      <th>44</th>\n",
       "      <td>Jacksonville</td>\n",
       "      <td>FL</td>\n",
       "      <td>868031</td>\n",
       "      <td>44</td>\n",
       "    </tr>\n",
       "    <tr>\n",
       "      <th>3</th>\n",
       "      <td>San Francisco</td>\n",
       "      <td>CA</td>\n",
       "      <td>864816</td>\n",
       "      <td>112967</td>\n",
       "    </tr>\n",
       "    <tr>\n",
       "      <th>49</th>\n",
       "      <td>Indianapolis</td>\n",
       "      <td>IN</td>\n",
       "      <td>848423</td>\n",
       "      <td>18</td>\n",
       "    </tr>\n",
       "    <tr>\n",
       "      <th>23</th>\n",
       "      <td>Charlotte</td>\n",
       "      <td>NC</td>\n",
       "      <td>827121</td>\n",
       "      <td>3949</td>\n",
       "    </tr>\n",
       "    <tr>\n",
       "      <th>13</th>\n",
       "      <td>Seattle</td>\n",
       "      <td>WA</td>\n",
       "      <td>684443</td>\n",
       "      <td>22740</td>\n",
       "    </tr>\n",
       "    <tr>\n",
       "      <th>19</th>\n",
       "      <td>Denver</td>\n",
       "      <td>CO</td>\n",
       "      <td>682545</td>\n",
       "      <td>6015</td>\n",
       "    </tr>\n",
       "    <tr>\n",
       "      <th>41</th>\n",
       "      <td>El Paso</td>\n",
       "      <td>TX</td>\n",
       "      <td>681136</td>\n",
       "      <td>82</td>\n",
       "    </tr>\n",
       "    <tr>\n",
       "      <th>16</th>\n",
       "      <td>Detroit</td>\n",
       "      <td>MI</td>\n",
       "      <td>677124</td>\n",
       "      <td>13323</td>\n",
       "    </tr>\n",
       "    <tr>\n",
       "      <th>14</th>\n",
       "      <td>Washington</td>\n",
       "      <td>DC</td>\n",
       "      <td>672228</td>\n",
       "      <td>16843</td>\n",
       "    </tr>\n",
       "    <tr>\n",
       "      <th>9</th>\n",
       "      <td>Boston</td>\n",
       "      <td>MA</td>\n",
       "      <td>669469</td>\n",
       "      <td>36117</td>\n",
       "    </tr>\n",
       "    <tr>\n",
       "      <th>66</th>\n",
       "      <td>Memphis</td>\n",
       "      <td>TN</td>\n",
       "      <td>655760</td>\n",
       "      <td>2</td>\n",
       "    </tr>\n",
       "    <tr>\n",
       "      <th>46</th>\n",
       "      <td>Nashville</td>\n",
       "      <td>TN</td>\n",
       "      <td>654596</td>\n",
       "      <td>26</td>\n",
       "    </tr>\n",
       "    <tr>\n",
       "      <th>8</th>\n",
       "      <td>Las Vegas</td>\n",
       "      <td>NV</td>\n",
       "      <td>623769</td>\n",
       "      <td>48012</td>\n",
       "    </tr>\n",
       "    <tr>\n",
       "      <th>27</th>\n",
       "      <td>Baltimore</td>\n",
       "      <td>MD</td>\n",
       "      <td>621849</td>\n",
       "      <td>1481</td>\n",
       "    </tr>\n",
       "    <tr>\n",
       "      <th>69</th>\n",
       "      <td>Milwaukee</td>\n",
       "      <td>WI</td>\n",
       "      <td>600154</td>\n",
       "      <td>1</td>\n",
       "    </tr>\n",
       "    <tr>\n",
       "      <th>62</th>\n",
       "      <td>Albuquerque</td>\n",
       "      <td>NM</td>\n",
       "      <td>559131</td>\n",
       "      <td>3</td>\n",
       "    </tr>\n",
       "    <tr>\n",
       "      <th>40</th>\n",
       "      <td>Tucson</td>\n",
       "      <td>AZ</td>\n",
       "      <td>531674</td>\n",
       "      <td>118</td>\n",
       "    </tr>\n",
       "    <tr>\n",
       "      <th>61</th>\n",
       "      <td>Fresno</td>\n",
       "      <td>CA</td>\n",
       "      <td>520072</td>\n",
       "      <td>3</td>\n",
       "    </tr>\n",
       "    <tr>\n",
       "      <th>26</th>\n",
       "      <td>Sacramento</td>\n",
       "      <td>CA</td>\n",
       "      <td>490715</td>\n",
       "      <td>2058</td>\n",
       "    </tr>\n",
       "    <tr>\n",
       "      <th>...</th>\n",
       "      <td>...</td>\n",
       "      <td>...</td>\n",
       "      <td>...</td>\n",
       "      <td>...</td>\n",
       "    </tr>\n",
       "    <tr>\n",
       "      <th>43</th>\n",
       "      <td>Anchorage</td>\n",
       "      <td>AK</td>\n",
       "      <td>298695</td>\n",
       "      <td>50</td>\n",
       "    </tr>\n",
       "    <tr>\n",
       "      <th>32</th>\n",
       "      <td>Cincinnati</td>\n",
       "      <td>OH</td>\n",
       "      <td>298537</td>\n",
       "      <td>711</td>\n",
       "    </tr>\n",
       "    <tr>\n",
       "      <th>12</th>\n",
       "      <td>Newark</td>\n",
       "      <td>NJ</td>\n",
       "      <td>281913</td>\n",
       "      <td>24078</td>\n",
       "    </tr>\n",
       "    <tr>\n",
       "      <th>71</th>\n",
       "      <td>Lincoln</td>\n",
       "      <td>NE</td>\n",
       "      <td>277346</td>\n",
       "      <td>1</td>\n",
       "    </tr>\n",
       "    <tr>\n",
       "      <th>4</th>\n",
       "      <td>Orlando</td>\n",
       "      <td>FL</td>\n",
       "      <td>270917</td>\n",
       "      <td>112710</td>\n",
       "    </tr>\n",
       "    <tr>\n",
       "      <th>33</th>\n",
       "      <td>Buffalo</td>\n",
       "      <td>NY</td>\n",
       "      <td>258066</td>\n",
       "      <td>637</td>\n",
       "    </tr>\n",
       "    <tr>\n",
       "      <th>30</th>\n",
       "      <td>Durham</td>\n",
       "      <td>NC</td>\n",
       "      <td>257598</td>\n",
       "      <td>1258</td>\n",
       "    </tr>\n",
       "    <tr>\n",
       "      <th>42</th>\n",
       "      <td>Laredo</td>\n",
       "      <td>TX</td>\n",
       "      <td>255789</td>\n",
       "      <td>59</td>\n",
       "    </tr>\n",
       "    <tr>\n",
       "      <th>51</th>\n",
       "      <td>Norfolk</td>\n",
       "      <td>VA</td>\n",
       "      <td>246393</td>\n",
       "      <td>14</td>\n",
       "    </tr>\n",
       "    <tr>\n",
       "      <th>39</th>\n",
       "      <td>Reno</td>\n",
       "      <td>NV</td>\n",
       "      <td>241443</td>\n",
       "      <td>198</td>\n",
       "    </tr>\n",
       "    <tr>\n",
       "      <th>64</th>\n",
       "      <td>Baton Rouge</td>\n",
       "      <td>LA</td>\n",
       "      <td>228596</td>\n",
       "      <td>2</td>\n",
       "    </tr>\n",
       "    <tr>\n",
       "      <th>63</th>\n",
       "      <td>Birmingham</td>\n",
       "      <td>AL</td>\n",
       "      <td>214911</td>\n",
       "      <td>2</td>\n",
       "    </tr>\n",
       "    <tr>\n",
       "      <th>68</th>\n",
       "      <td>Spokane</td>\n",
       "      <td>WA</td>\n",
       "      <td>213267</td>\n",
       "      <td>1</td>\n",
       "    </tr>\n",
       "    <tr>\n",
       "      <th>70</th>\n",
       "      <td>Mobile</td>\n",
       "      <td>AL</td>\n",
       "      <td>194305</td>\n",
       "      <td>1</td>\n",
       "    </tr>\n",
       "    <tr>\n",
       "      <th>28</th>\n",
       "      <td>Salt Lake City</td>\n",
       "      <td>UT</td>\n",
       "      <td>192660</td>\n",
       "      <td>1446</td>\n",
       "    </tr>\n",
       "    <tr>\n",
       "      <th>60</th>\n",
       "      <td>Huntsville</td>\n",
       "      <td>AL</td>\n",
       "      <td>189114</td>\n",
       "      <td>4</td>\n",
       "    </tr>\n",
       "    <tr>\n",
       "      <th>36</th>\n",
       "      <td>Brownsville</td>\n",
       "      <td>TX</td>\n",
       "      <td>183888</td>\n",
       "      <td>299</td>\n",
       "    </tr>\n",
       "    <tr>\n",
       "      <th>52</th>\n",
       "      <td>Providence</td>\n",
       "      <td>RI</td>\n",
       "      <td>179204</td>\n",
       "      <td>12</td>\n",
       "    </tr>\n",
       "    <tr>\n",
       "      <th>6</th>\n",
       "      <td>Fort Lauderdale</td>\n",
       "      <td>FL</td>\n",
       "      <td>178587</td>\n",
       "      <td>52774</td>\n",
       "    </tr>\n",
       "    <tr>\n",
       "      <th>31</th>\n",
       "      <td>Ontario</td>\n",
       "      <td>CA</td>\n",
       "      <td>171200</td>\n",
       "      <td>769</td>\n",
       "    </tr>\n",
       "    <tr>\n",
       "      <th>65</th>\n",
       "      <td>Alexandria</td>\n",
       "      <td>VA</td>\n",
       "      <td>153511</td>\n",
       "      <td>2</td>\n",
       "    </tr>\n",
       "    <tr>\n",
       "      <th>59</th>\n",
       "      <td>Kansas City</td>\n",
       "      <td>KS</td>\n",
       "      <td>151261</td>\n",
       "      <td>7</td>\n",
       "    </tr>\n",
       "    <tr>\n",
       "      <th>48</th>\n",
       "      <td>Savannah</td>\n",
       "      <td>GA</td>\n",
       "      <td>145684</td>\n",
       "      <td>21</td>\n",
       "    </tr>\n",
       "    <tr>\n",
       "      <th>50</th>\n",
       "      <td>Syracuse</td>\n",
       "      <td>NY</td>\n",
       "      <td>144152</td>\n",
       "      <td>15</td>\n",
       "    </tr>\n",
       "    <tr>\n",
       "      <th>53</th>\n",
       "      <td>Charleston</td>\n",
       "      <td>SC</td>\n",
       "      <td>135524</td>\n",
       "      <td>9</td>\n",
       "    </tr>\n",
       "    <tr>\n",
       "      <th>55</th>\n",
       "      <td>Columbia</td>\n",
       "      <td>SC</td>\n",
       "      <td>133393</td>\n",
       "      <td>9</td>\n",
       "    </tr>\n",
       "    <tr>\n",
       "      <th>38</th>\n",
       "      <td>Denton</td>\n",
       "      <td>TX</td>\n",
       "      <td>131047</td>\n",
       "      <td>202</td>\n",
       "    </tr>\n",
       "    <tr>\n",
       "      <th>67</th>\n",
       "      <td>Hartford</td>\n",
       "      <td>CT</td>\n",
       "      <td>124014</td>\n",
       "      <td>2</td>\n",
       "    </tr>\n",
       "    <tr>\n",
       "      <th>57</th>\n",
       "      <td>Rochester</td>\n",
       "      <td>MN</td>\n",
       "      <td>112216</td>\n",
       "      <td>7</td>\n",
       "    </tr>\n",
       "    <tr>\n",
       "      <th>58</th>\n",
       "      <td>Manchester</td>\n",
       "      <td>NH</td>\n",
       "      <td>110223</td>\n",
       "      <td>7</td>\n",
       "    </tr>\n",
       "  </tbody>\n",
       "</table>\n",
       "<p>72 rows × 4 columns</p>\n",
       "</div>"
      ],
      "text/plain": [
       "          city_name state_code  total_pop   count\n",
       "0          New York         NY    8550405  342609\n",
       "2       Los Angeles         CA    3971896  205618\n",
       "5           Chicago         IL    2720556   52888\n",
       "7           Houston         TX    2298628   49547\n",
       "18     Philadelphia         PA    1567442    6408\n",
       "20          Phoenix         AZ    1563001    5703\n",
       "21      San Antonio         TX    1469824    5660\n",
       "17        San Diego         CA    1394907    6987\n",
       "10           Dallas         TX    1300082   28238\n",
       "22         San Jose         CA    1026919    4245\n",
       "25           Austin         TX     931840    2894\n",
       "44     Jacksonville         FL     868031      44\n",
       "3     San Francisco         CA     864816  112967\n",
       "49     Indianapolis         IN     848423      18\n",
       "23        Charlotte         NC     827121    3949\n",
       "13          Seattle         WA     684443   22740\n",
       "19           Denver         CO     682545    6015\n",
       "41          El Paso         TX     681136      82\n",
       "16          Detroit         MI     677124   13323\n",
       "14       Washington         DC     672228   16843\n",
       "9            Boston         MA     669469   36117\n",
       "66          Memphis         TN     655760       2\n",
       "46        Nashville         TN     654596      26\n",
       "8         Las Vegas         NV     623769   48012\n",
       "27        Baltimore         MD     621849    1481\n",
       "69        Milwaukee         WI     600154       1\n",
       "62      Albuquerque         NM     559131       3\n",
       "40           Tucson         AZ     531674     118\n",
       "61           Fresno         CA     520072       3\n",
       "26       Sacramento         CA     490715    2058\n",
       "..              ...        ...        ...     ...\n",
       "43        Anchorage         AK     298695      50\n",
       "32       Cincinnati         OH     298537     711\n",
       "12           Newark         NJ     281913   24078\n",
       "71          Lincoln         NE     277346       1\n",
       "4           Orlando         FL     270917  112710\n",
       "33          Buffalo         NY     258066     637\n",
       "30           Durham         NC     257598    1258\n",
       "42           Laredo         TX     255789      59\n",
       "51          Norfolk         VA     246393      14\n",
       "39             Reno         NV     241443     198\n",
       "64      Baton Rouge         LA     228596       2\n",
       "63       Birmingham         AL     214911       2\n",
       "68          Spokane         WA     213267       1\n",
       "70           Mobile         AL     194305       1\n",
       "28   Salt Lake City         UT     192660    1446\n",
       "60       Huntsville         AL     189114       4\n",
       "36      Brownsville         TX     183888     299\n",
       "52       Providence         RI     179204      12\n",
       "6   Fort Lauderdale         FL     178587   52774\n",
       "31          Ontario         CA     171200     769\n",
       "65       Alexandria         VA     153511       2\n",
       "59      Kansas City         KS     151261       7\n",
       "48         Savannah         GA     145684      21\n",
       "50         Syracuse         NY     144152      15\n",
       "53       Charleston         SC     135524       9\n",
       "55         Columbia         SC     133393       9\n",
       "38           Denton         TX     131047     202\n",
       "67         Hartford         CT     124014       2\n",
       "57        Rochester         MN     112216       7\n",
       "58       Manchester         NH     110223       7\n",
       "\n",
       "[72 rows x 4 columns]"
      ]
     },
     "execution_count": 74,
     "metadata": {},
     "output_type": "execute_result"
    }
   ],
   "source": [
    "df_pop.sort_values('total_pop', ascending=False)"
   ]
  },
  {
   "cell_type": "markdown",
   "metadata": {},
   "source": [
    "Once again there appears to be a slight correlation, although the data is not very conclusive.\n",
    "Further analysis will need to be carried out in order to draw stronger conclusions."
   ]
  },
  {
   "cell_type": "code",
   "execution_count": null,
   "metadata": {},
   "outputs": [],
   "source": []
  }
 ],
 "metadata": {
  "kernelspec": {
   "display_name": "Python 3",
   "language": "python",
   "name": "python3"
  },
  "language_info": {
   "codemirror_mode": {
    "name": "ipython",
    "version": 3
   },
   "file_extension": ".py",
   "mimetype": "text/x-python",
   "name": "python",
   "nbconvert_exporter": "python",
   "pygments_lexer": "ipython3",
   "version": "3.6.3"
  }
 },
 "nbformat": 4,
 "nbformat_minor": 4
}
